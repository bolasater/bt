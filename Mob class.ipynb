{
 "cells": [
  {
   "cell_type": "code",
   "execution_count": 1,
   "id": "1c4d152a",
   "metadata": {},
   "outputs": [],
   "source": [
    "import random\n",
    "import arcade\n",
    "import os\n",
    "from pathlib import Path\n",
    "from enum import Enum\n",
    "from PIL import Image"
   ]
  },
  {
   "cell_type": "code",
   "execution_count": 17,
   "id": "b11bdc7b",
   "metadata": {},
   "outputs": [],
   "source": [
    "class MobType(): #holds assets common to a group of mobs with same art\n",
    "    \"\"\"\n",
    "    The MobType class holds common assets for a group of identical sprites.  \n",
    "    The Mob (Mobile OBject) class actually causes the instantiation of the MobType.\n",
    "    \"\"\"\n",
    "    registry ={}\n",
    "\n",
    "    Action = Enum('Action',['shoot','hurt','slash','spellcast','thrust','walk'])\n",
    "\n",
    "    actions_base = [Action.walk, Action.hurt]\n",
    "    actions_full = actions_base + [Action.slash, Action.spellcast, Action.thrust]\n",
    "\n",
    "    SPRITE_ROOT = Path('.') / 'textures' / 'png'/ '03_final'\n",
    "\n",
    "    std_sprite_dims = (64,64)\n",
    "    ov_sprite_dims = (192,192)\n",
    "\n",
    " \n",
    "    sprite_sheet_dims = { #columns, rows of frames in sprite sheets\n",
    "        Action.shoot:(4,13),\n",
    "        Action.hurt:(1,6),\n",
    "        Action.slash:(4,6),\n",
    "        Action.spellcast:(4,7),\n",
    "        Action.thrust:(4,8),\n",
    "        Action.walk:(4,9)\n",
    "    }\n",
    "    @classmethod\n",
    "    def setup_all(cls):\n",
    "        for mt in cls.registry.values():\n",
    "            mt.setup()\n",
    "\n",
    "    def __init__(self, name, actions_w_sizes): #name of sprite sheets\n",
    "        self.name = name\n",
    "        self.actions_w_sizes = actions_w_sizes \n",
    "        self.textures = {}\n",
    "        self.img_locns = {a:None for a in MobType.Action} #list of Rects\n",
    "        MobType.registry[name] = self\n",
    "        \n",
    "    def load_textures(self):\n",
    "        for a in self.actions_w_sizes.keys():\n",
    "            fn = (MobType.SPRITE_ROOT/f'{a.name}/{self.name}.png').as_posix()\n",
    "            print(fn, a.name, self.img_locns[a][:5])\n",
    "            self.textures[a] = arcade.load_textures(fn,self.img_locns[a])\n",
    "\n",
    "\n",
    "    def setup_img_locns(self): #dict action:(list of boxes (4-tuples) for std, list of boxes for ov)\n",
    "        def build_sheet_img_locns(s_wd,s_ht,rows,cols):\n",
    "            return [[s_wd*j,s_ht*i,s_wd,s_ht] for i in range(rows) for j in range(cols)]\n",
    "        \n",
    "        for a in  MobType.Action:\n",
    "            rows,cols = MobType.sprite_sheet_dims[a]\n",
    "            std_wd,std_ht = MobType.std_sprite_dims\n",
    "            ov_wd,ov_ht = MobType.ov_sprite_dims\n",
    "            if self.actions_w_sizes[a] == 0:\n",
    "                self.img_locns[a] = build_sheet_img_locns(std_wd,std_ht,rows,cols)\n",
    "            else:\n",
    "                self.img_locns[a] = build_sheet_img_locns(ov_wd,ov_ht,rows,cols)\n",
    "\n",
    "    def setup(self):\n",
    "        self.setup_img_locns()\n",
    "        self.load_textures()\n",
    "        \n",
    "class Mob(arcade.Sprite):\n",
    "\n",
    "    textures = {}\n",
    "\n",
    "    def __init__(self, mob_type_name):#mob_type_name should be for an already registered mob type\n",
    "        super().__init__()\n",
    "        self.mob_type_name = mob_type_name\n",
    "        self.mob_type = None\n",
    "        \n",
    "        # Track our state\n",
    "        self.action = MobType.Action.walk\n",
    "        self.frame = 0\n",
    "        self.facing = 2 #0 is up; 1 left; 2 down; 3 down\n",
    "        self.cur_texture = None\n",
    "\n",
    "    \n",
    "    def advance_frame(self):\n",
    "        facing_ct,frame_ct = MobType.sprite_sheet_dims[self.action]\n",
    "        self.frame = (self.frame + 1) % Mob.frame_ct\n",
    "\n",
    "    def update_texture(self): #assumes frame and action are accurate\n",
    "        facing_ct,frame_ct = MobType.sprite_sheet_dims[self.action]\n",
    "        facing = self.facings if facing_ct==4 else 0 #Hurt has only one facing\n",
    "        self.cur_texture =  MobType.textures[self.action][facing*frame_ct + self.frame]\n",
    "\n",
    "    def update_animation(self, delta_time: float = 1 / 60):\n",
    "\n",
    "        # Figure out if we need to flip face left or right\n",
    "        if self.change_x < 0 and self.facing == 3:\n",
    "            self.facing = 1\n",
    "            self.update_texture()\n",
    "        elif self.change_x > 0 and self.facing == 1:\n",
    "            self.facing = 3\n",
    "            self.update_texture()\n",
    "\n",
    "        if self.change_x == 0:\n",
    "            self.action = 'walking'\n",
    "            self.update_texture()\n",
    "            return\n",
    "\n",
    "        self.advance_frame()\n",
    "        self.update_texture\n",
    "\n",
    "    def setup(self):\n",
    "        self.mob_type = MobType.registry[self.mob_type_name]\n",
    "        \n"
   ]
  },
  {
   "cell_type": "code",
   "execution_count": 18,
   "id": "4505d228",
   "metadata": {},
   "outputs": [],
   "source": [
    "player = Mob('human_light_armor_long_sword')"
   ]
  },
  {
   "cell_type": "code",
   "execution_count": 19,
   "id": "3b8b8374",
   "metadata": {},
   "outputs": [],
   "source": [
    "action_w_sizes = { \n",
    "    MobType.Action.shoot:0,\n",
    "    MobType.Action.hurt:0,\n",
    "    MobType.Action.slash:1,\n",
    "    MobType.Action.spellcast:0,\n",
    "    MobType.Action.thrust:1,\n",
    "    MobType.Action.walk:0\n",
    "}"
   ]
  },
  {
   "cell_type": "code",
   "execution_count": 20,
   "id": "d3b61f5a",
   "metadata": {},
   "outputs": [],
   "source": [
    "mob_type = MobType('human_light_armor_long_sword',action_w_sizes)"
   ]
  },
  {
   "cell_type": "code",
   "execution_count": 21,
   "id": "7727a5bf",
   "metadata": {},
   "outputs": [],
   "source": [
    "mob_type.setup_img_locns()"
   ]
  },
  {
   "cell_type": "code",
   "execution_count": 25,
   "id": "86c878d7",
   "metadata": {},
   "outputs": [
    {
     "data": {
      "text/plain": [
       "[[0, 0, 192, 192],\n",
       " [192, 0, 192, 192],\n",
       " [384, 0, 192, 192],\n",
       " [576, 0, 192, 192],\n",
       " [768, 0, 192, 192],\n",
       " [960, 0, 192, 192],\n",
       " [1152, 0, 192, 192],\n",
       " [1344, 0, 192, 192],\n",
       " [0, 192, 192, 192],\n",
       " [192, 192, 192, 192],\n",
       " [384, 192, 192, 192],\n",
       " [576, 192, 192, 192],\n",
       " [768, 192, 192, 192],\n",
       " [960, 192, 192, 192],\n",
       " [1152, 192, 192, 192],\n",
       " [1344, 192, 192, 192],\n",
       " [0, 384, 192, 192],\n",
       " [192, 384, 192, 192],\n",
       " [384, 384, 192, 192],\n",
       " [576, 384, 192, 192],\n",
       " [768, 384, 192, 192],\n",
       " [960, 384, 192, 192],\n",
       " [1152, 384, 192, 192],\n",
       " [1344, 384, 192, 192],\n",
       " [0, 576, 192, 192],\n",
       " [192, 576, 192, 192],\n",
       " [384, 576, 192, 192],\n",
       " [576, 576, 192, 192],\n",
       " [768, 576, 192, 192],\n",
       " [960, 576, 192, 192],\n",
       " [1152, 576, 192, 192],\n",
       " [1344, 576, 192, 192]]"
      ]
     },
     "execution_count": 25,
     "metadata": {},
     "output_type": "execute_result"
    }
   ],
   "source": [
    "mob_type.img_locns[MobType.Action.thrust]"
   ]
  },
  {
   "cell_type": "code",
   "execution_count": 11,
   "id": "c384a82c",
   "metadata": {},
   "outputs": [],
   "source": [
    "def test_img_locns(s_wd,s_ht,rows,cols):\n",
    "            return [[i,j,5,5] for j in range(cols) for i in range(rows)]"
   ]
  },
  {
   "cell_type": "code",
   "execution_count": 12,
   "id": "d059f9f2",
   "metadata": {},
   "outputs": [
    {
     "data": {
      "text/plain": [
       "[[0, 0, 5, 5],\n",
       " [1, 0, 5, 5],\n",
       " [2, 0, 5, 5],\n",
       " [0, 1, 5, 5],\n",
       " [1, 1, 5, 5],\n",
       " [2, 1, 5, 5],\n",
       " [0, 2, 5, 5],\n",
       " [1, 2, 5, 5],\n",
       " [2, 2, 5, 5],\n",
       " [0, 3, 5, 5],\n",
       " [1, 3, 5, 5],\n",
       " [2, 3, 5, 5]]"
      ]
     },
     "execution_count": 12,
     "metadata": {},
     "output_type": "execute_result"
    }
   ],
   "source": [
    "test_img_locns(5,7,3,4)"
   ]
  },
  {
   "cell_type": "code",
   "execution_count": 16,
   "id": "281352a1",
   "metadata": {},
   "outputs": [
    {
     "data": {
      "text/plain": [
       "[[(0, 0), (1, 0), (2, 0), (3, 0)],\n",
       " [(0, 1), (1, 1), (2, 1), (3, 1)],\n",
       " [(0, 2), (1, 2), (2, 2), (3, 2)]]"
      ]
     },
     "execution_count": 16,
     "metadata": {},
     "output_type": "execute_result"
    }
   ],
   "source": [
    "[[(i,j) for i in range(4)] for j in range(3)]"
   ]
  }
 ],
 "metadata": {
  "kernelspec": {
   "display_name": "lc2",
   "language": "python",
   "name": "lc2"
  },
  "language_info": {
   "codemirror_mode": {
    "name": "ipython",
    "version": 3
   },
   "file_extension": ".py",
   "mimetype": "text/x-python",
   "name": "python",
   "nbconvert_exporter": "python",
   "pygments_lexer": "ipython3",
   "version": "3.11.6"
  }
 },
 "nbformat": 4,
 "nbformat_minor": 5
}

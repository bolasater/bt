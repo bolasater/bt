{
 "cells": [
  {
   "cell_type": "code",
   "execution_count": 61,
   "id": "d3002326",
   "metadata": {},
   "outputs": [],
   "source": [
    "from shapely.geometry import Point, LineString, Polygon\n",
    "from shapely import STRtree\n",
    "\n",
    "# Create a point\n",
    "point = Point(0, 0)\n",
    "\n",
    "# Create a line string\n",
    "line_string = LineString([(0, 0), (1, 1)])\n",
    "\n",
    "# Create a polygon\n",
    "polygon = Polygon([(0, 0), (1, 0), (1, 1), (0, 1), (0, 0)])\n",
    "\n",
    "# Buffer a polygon\n",
    "buffered_polygon = polygon.buffer(1)\n",
    "\n",
    "# Centroid of a polygon\n",
    "centroid = polygon.centroid\n",
    "\n",
    "# Intersection of two polygons\n",
    "intersection = polygon.intersection(polygon)\n",
    "\n",
    "# Union of two polygons\n",
    "union = polygon.union(polygon)\n",
    "\n",
    "# Difference of two polygons\n",
    "difference = polygon.difference(polygon)\n",
    "\n",
    "# Symmetric difference of two polygons\n",
    "symmetric_difference = polygon.symmetric_difference(polygon)\n",
    "\n"
   ]
  },
  {
   "cell_type": "code",
   "execution_count": 18,
   "id": "85655b4c",
   "metadata": {},
   "outputs": [
    {
     "data": {
      "text/plain": [
       "1"
      ]
     },
     "execution_count": 18,
     "metadata": {},
     "output_type": "execute_result"
    }
   ],
   "source": [
    "idx = strtree.nearest(Point(4,3))\n",
    "idx"
   ]
  },
  {
   "cell_type": "code",
   "execution_count": 22,
   "id": "326cfda1",
   "metadata": {},
   "outputs": [
    {
     "data": {
      "text/plain": [
       "[<POINT (0 0)>,\n",
       " <POINT (2 6)>,\n",
       " <POINT (5 7)>,\n",
       " <POINT (8 9)>,\n",
       " <POINT (15 20)>,\n",
       " <POINT (9 1)>]"
      ]
     },
     "execution_count": 22,
     "metadata": {},
     "output_type": "execute_result"
    }
   ],
   "source": [
    "points"
   ]
  },
  {
   "cell_type": "code",
   "execution_count": 25,
   "id": "06de9252",
   "metadata": {},
   "outputs": [
    {
     "data": {
      "text/plain": [
       "2.8284271247461903"
      ]
     },
     "execution_count": 25,
     "metadata": {},
     "output_type": "execute_result"
    }
   ],
   "source": [
    "Point(1,2).distance(Point(3,4))"
   ]
  },
  {
   "cell_type": "code",
   "execution_count": 31,
   "id": "da3a0620",
   "metadata": {},
   "outputs": [
    {
     "data": {
      "text/plain": [
       "(2.0, 2.0)"
      ]
     },
     "execution_count": 31,
     "metadata": {},
     "output_type": "execute_result"
    }
   ],
   "source": [
    "a,b = Point(1,2),Point(3,4)\n",
    "v = (b.x - a.x, b.y - a.y)\n",
    "v"
   ]
  },
  {
   "cell_type": "code",
   "execution_count": 170,
   "id": "14739f95",
   "metadata": {},
   "outputs": [],
   "source": [
    "points = [Point(0,-20),\n",
    "         Point(2,6),\n",
    "         Point(5,7),\n",
    "         Point(8,9),\n",
    "         Point(15,20),\n",
    "         Point(9,1),\n",
    "         ]\n",
    "strtree = STRtree(points)"
   ]
  },
  {
   "cell_type": "code",
   "execution_count": 171,
   "id": "7f672024",
   "metadata": {},
   "outputs": [
    {
     "data": {
      "text/plain": [
       "[]"
      ]
     },
     "execution_count": 171,
     "metadata": {},
     "output_type": "execute_result"
    }
   ],
   "source": [
    "indcs = strtree.query(polygon)\n",
    "list(indcs)"
   ]
  },
  {
   "cell_type": "code",
   "execution_count": 174,
   "id": "12ad1b3d",
   "metadata": {},
   "outputs": [
    {
     "data": {
      "text/plain": [
       "8"
      ]
     },
     "execution_count": 174,
     "metadata": {},
     "output_type": "execute_result"
    }
   ],
   "source": [
    "class TestInit:\n",
    "    def __init__(self,a):\n",
    "        self.a = a\n",
    "    def init_test(a):\n",
    "        return test_init(a)\n",
    "\n",
    "fum = test_init(7)\n",
    "fum.a\n",
    "fum = TestInit.init_test(8)\n",
    "fum.a"
   ]
  },
  {
   "cell_type": "code",
   "execution_count": 59,
   "id": "6be57654",
   "metadata": {},
   "outputs": [
    {
     "data": {
      "text/plain": [
       "True"
      ]
     },
     "execution_count": 59,
     "metadata": {},
     "output_type": "execute_result"
    }
   ],
   "source": [
    "points = []\n",
    "strtree = STRtree(points)\n",
    "idx = strtree.nearest(Point(4,3))\n",
    "idx is None\n",
    "#len(strtree)"
   ]
  },
  {
   "cell_type": "code",
   "execution_count": 44,
   "id": "d7e81e44",
   "metadata": {},
   "outputs": [
    {
     "name": "stdout",
     "output_type": "stream",
     "text": [
      "0 a\n",
      "1 b\n",
      "2 c\n"
     ]
    }
   ],
   "source": [
    "for a,i in enumerate(['a','b','c']):\n",
    "    print(a,i)"
   ]
  },
  {
   "cell_type": "code",
   "execution_count": 45,
   "id": "8401fde3",
   "metadata": {},
   "outputs": [
    {
     "name": "stdout",
     "output_type": "stream",
     "text": [
      "1 2\n"
     ]
    }
   ],
   "source": [
    "a,b = tuple([1,2])\n",
    "print(a,b)"
   ]
  },
  {
   "cell_type": "code",
   "execution_count": 47,
   "id": "23a6c210",
   "metadata": {},
   "outputs": [
    {
     "data": {
      "text/plain": [
       "0"
      ]
     },
     "execution_count": 47,
     "metadata": {},
     "output_type": "execute_result"
    }
   ],
   "source": [
    "strtree = STRtree([])\n",
    "len(strtree)"
   ]
  },
  {
   "cell_type": "code",
   "execution_count": 51,
   "id": "07cd1d28",
   "metadata": {},
   "outputs": [
    {
     "data": {
      "text/plain": [
       "nan"
      ]
     },
     "execution_count": 51,
     "metadata": {},
     "output_type": "execute_result"
    }
   ],
   "source": [
    "Point(1,2).distance(None)"
   ]
  },
  {
   "cell_type": "code",
   "execution_count": 52,
   "id": "44a90a26",
   "metadata": {},
   "outputs": [
    {
     "data": {
      "text/plain": [
       "shapely.geometry.point.Point"
      ]
     },
     "execution_count": 52,
     "metadata": {},
     "output_type": "execute_result"
    }
   ],
   "source": [
    "type(Point(1,2))"
   ]
  },
  {
   "cell_type": "code",
   "execution_count": 55,
   "id": "4db26358",
   "metadata": {},
   "outputs": [
    {
     "data": {
      "text/plain": [
       "2"
      ]
     },
     "execution_count": 55,
     "metadata": {},
     "output_type": "execute_result"
    }
   ],
   "source": [
    "1 if not 3 else 2"
   ]
  },
  {
   "cell_type": "code",
   "execution_count": 56,
   "id": "cf66e60c",
   "metadata": {},
   "outputs": [
    {
     "data": {
      "text/plain": [
       "True"
      ]
     },
     "execution_count": 56,
     "metadata": {},
     "output_type": "execute_result"
    }
   ],
   "source": [
    "type(Point(1,3)) == Point"
   ]
  },
  {
   "cell_type": "code",
   "execution_count": 188,
   "id": "e7de756e",
   "metadata": {},
   "outputs": [
    {
     "name": "stdout",
     "output_type": "stream",
     "text": [
      "POLYGON ((1 0, 0.5 0.866, -0.5 0.866, -1 0, -0.5 -0.866, 0.5 -0.866, 1 0))\n",
      "[(1.0, 0.0), (0.5, 0.866), (-0.5, 0.866), (-1.0, 0.0), (-0.5, -0.866), (0.5, -0.866), (1.0, 0.0)]\n"
     ]
    }
   ],
   "source": [
    "import math\n",
    "math.sin(math.pi/3)\n",
    "unit_hex = Polygon([(round(math.cos(i*math.pi/3),3),round(math.sin(i*math.pi/3),3)) for i in range(6)])\n",
    "unit_hex\n",
    "print(unit_hex)\n",
    "print(list(unit_hex.boundary.coords))"
   ]
  },
  {
   "cell_type": "code",
   "execution_count": 79,
   "id": "15a0b5ab",
   "metadata": {},
   "outputs": [
    {
     "data": {
      "image/svg+xml": [
       "<svg xmlns=\"http://www.w3.org/2000/svg\" xmlns:xlink=\"http://www.w3.org/1999/xlink\" width=\"100.0\" height=\"100.0\" viewBox=\"-1.0431804921488899 -1.0431804921488899 2.0863609842977797 2.0863609842977797\" preserveAspectRatio=\"xMinYMin meet\"><g transform=\"matrix(1,0,0,-1,0,0.0)\"><path fill-rule=\"evenodd\" fill=\"#66cc99\" stroke=\"#555555\" stroke-width=\"0.041727219685955594\" opacity=\"0.6\" d=\"M 0.7071067811865476,0.7071067811865475 L -0.2588010819142763,0.9659078631008239 L -0.9659078631008239,0.2588010819142765 L -0.7071067811865476,-0.7071067811865475 L 0.2588010819142763,-0.9659078631008239 L 0.9659078631008239,-0.2588010819142765 L 0.7071067811865476,0.7071067811865475 z\" /></g></svg>"
      ],
      "text/plain": [
       "<POLYGON ((0.707 0.707, -0.259 0.966, -0.966 0.259, -0.707 -0.707, 0.259 -0....>"
      ]
     },
     "execution_count": 79,
     "metadata": {},
     "output_type": "execute_result"
    }
   ],
   "source": [
    "import shapely\n",
    "hex_rotated = shapely.affinity.rotate(hex,math.pi/4,use_radians=True)\n",
    "hex_rotated"
   ]
  },
  {
   "cell_type": "code",
   "execution_count": 137,
   "id": "51c3285f",
   "metadata": {},
   "outputs": [
    {
     "name": "stdout",
     "output_type": "stream",
     "text": [
      "POLYGON ((0 0, -0.5 1, 0.5 1, 0 0))\n"
     ]
    }
   ],
   "source": [
    "unit_cone = Polygon([(0,0),(-.5,1),(.5,1)])\n",
    "print(unit_cone)"
   ]
  },
  {
   "cell_type": "code",
   "execution_count": 131,
   "id": "c8105cb9",
   "metadata": {},
   "outputs": [
    {
     "data": {
      "image/svg+xml": [
       "<svg xmlns=\"http://www.w3.org/2000/svg\" xmlns:xlink=\"http://www.w3.org/1999/xlink\" width=\"100.0\" height=\"100.0\" viewBox=\"-0.33 -0.58 0.66 2.16\" preserveAspectRatio=\"xMinYMin meet\"><g transform=\"matrix(1,0,0,-1,0,1.0)\"><path fill-rule=\"evenodd\" fill=\"#66cc99\" stroke=\"#555555\" stroke-width=\"0.0432\" opacity=\"0.6\" d=\"M 0.0,-0.5 L -0.25,1.5 L 0.25,1.5 L 0.0,-0.5 z\" /></g></svg>"
      ],
      "text/plain": [
       "<POLYGON ((0 -0.5, -0.25 1.5, 0.25 1.5, 0 -0.5))>"
      ]
     },
     "execution_count": 131,
     "metadata": {},
     "output_type": "execute_result"
    }
   ],
   "source": [
    "cone_stretched = shapely.affinity.scale(unit_cone,.5,2)\n",
    "cone_stretched"
   ]
  },
  {
   "cell_type": "code",
   "execution_count": 138,
   "id": "6d004f33",
   "metadata": {},
   "outputs": [
    {
     "name": "stdout",
     "output_type": "stream",
     "text": [
      "POLYGON ((0 0, -0.5 1, 0.5 1, 0 0))\n"
     ]
    }
   ],
   "source": [
    "cone_trans = shapely.affinity.translate(unit_cone,3,4)\n",
    "print(unit_cone)"
   ]
  },
  {
   "cell_type": "code",
   "execution_count": 82,
   "id": "c141aee6",
   "metadata": {},
   "outputs": [
    {
     "data": {
      "text/plain": [
       "3.605551275463989"
      ]
     },
     "execution_count": 82,
     "metadata": {},
     "output_type": "execute_result"
    }
   ],
   "source": [
    "Point(0,0).distance(Point(2,3))"
   ]
  },
  {
   "cell_type": "code",
   "execution_count": 86,
   "id": "3ded516c",
   "metadata": {},
   "outputs": [
    {
     "data": {
      "text/plain": [
       "1.0471975511965976"
      ]
     },
     "execution_count": 86,
     "metadata": {},
     "output_type": "execute_result"
    }
   ],
   "source": [
    "math.acos(.5)"
   ]
  },
  {
   "cell_type": "code",
   "execution_count": 87,
   "id": "cd193a63",
   "metadata": {},
   "outputs": [
    {
     "data": {
      "text/plain": [
       "0.49999787927254574"
      ]
     },
     "execution_count": 87,
     "metadata": {},
     "output_type": "execute_result"
    }
   ],
   "source": [
    "math.cos(1.0472)"
   ]
  },
  {
   "cell_type": "code",
   "execution_count": 112,
   "id": "c87bae7b",
   "metadata": {},
   "outputs": [
    {
     "data": {
      "text/plain": [
       "1.1071487177940904"
      ]
     },
     "execution_count": 112,
     "metadata": {},
     "output_type": "execute_result"
    }
   ],
   "source": [
    "a = Point(0,0)\n",
    "b = Point(1,2)\n",
    "dist = a.distance(b)\n",
    "nd = [1/dist*i for i in (b.x - a.x, b.y - a.y)]\n",
    "length = (nd[0]**2 + nd[1]**2)**.5 \n",
    "#theta = match.acos(norm_diff[])\n",
    "theta = math.acos(abs(nd[0]))\n",
    "theta\n",
    "        "
   ]
  },
  {
   "cell_type": "code",
   "execution_count": null,
   "id": "f9f287bf",
   "metadata": {},
   "outputs": [],
   "source": []
  },
  {
   "cell_type": "code",
   "execution_count": 115,
   "id": "c557feb6",
   "metadata": {},
   "outputs": [],
   "source": [
    "theta_0 = 1.1071487177940904\n",
    "theta_1 = math.pi - theta_0\n",
    "theta_2 = math.pi + theta_0\n",
    "theta_3 = math.pi * 2 - theta_0"
   ]
  },
  {
   "cell_type": "code",
   "execution_count": 119,
   "id": "d8a5b256",
   "metadata": {},
   "outputs": [
    {
     "data": {
      "text/plain": [
       "[(1.0, 2.0), (-1.0, 2.0), (-1.0, -2.0), (1.0, -2.0)]"
      ]
     },
     "execution_count": 119,
     "metadata": {},
     "output_type": "execute_result"
    }
   ],
   "source": [
    "[(round(dist*math.cos(theta),0),round(dist*math.sin(theta),0)) for theta in [theta_0,theta_1,theta_2,theta_3]]"
   ]
  },
  {
   "cell_type": "code",
   "execution_count": 121,
   "id": "dbe260fd",
   "metadata": {},
   "outputs": [],
   "source": [
    "def theta(a:Point,b:Point)->float:\n",
    "    dist = a.distance(b)\n",
    "    nd = [1/dist*i for i in (b.x - a.x, b.y - a.y)]\n",
    "    length = (nd[0]**2 + nd[1]**2)**.5 \n",
    "    #theta = match.acos(norm_diff[])\n",
    "    theta = math.acos(abs(nd[0]))\n",
    "    if nd[0]>=0:\n",
    "        theta = theta if nd[1]>= 0 else math.pi * 2 - theta\n",
    "    else:\n",
    "        theta = math.pi - theta if nd[1]>=0 else math.pi + theta    \n",
    "    return theta\n"
   ]
  },
  {
   "cell_type": "code",
   "execution_count": 181,
   "id": "649712ba",
   "metadata": {},
   "outputs": [
    {
     "data": {
      "text/plain": [
       "0.3983136810760903"
      ]
     },
     "execution_count": 181,
     "metadata": {},
     "output_type": "execute_result"
    }
   ],
   "source": [
    "theta(Point(39.2,16.3),Point(35.7,18.9))/(2*math.pi)"
   ]
  },
  {
   "cell_type": "code",
   "execution_count": 183,
   "id": "c7b1766b",
   "metadata": {},
   "outputs": [
    {
     "data": {
      "text/plain": [
       "0.3983136810760903"
      ]
     },
     "execution_count": 183,
     "metadata": {},
     "output_type": "execute_result"
    }
   ],
   "source": [
    "theta(Point(0,0),Point(-3.5,2.6))/(2*math.pi)"
   ]
  },
  {
   "cell_type": "code",
   "execution_count": 122,
   "id": "44a635c3",
   "metadata": {},
   "outputs": [],
   "source": [
    "points = [Point(i) for i in [(1.0, 2.0), (-1.0, 2.0), (-1.0, -2.0), (1.0, -2.0)]]"
   ]
  },
  {
   "cell_type": "code",
   "execution_count": 127,
   "id": "012c90e2",
   "metadata": {},
   "outputs": [
    {
     "data": {
      "text/plain": [
       "[1.1071487177940904, 2.0344439357957027, 4.2487413713838835, 5.176036589385496]"
      ]
     },
     "execution_count": 127,
     "metadata": {},
     "output_type": "execute_result"
    }
   ],
   "source": [
    "[eval(f'theta_{i}') for i in range(4)]"
   ]
  },
  {
   "cell_type": "code",
   "execution_count": 129,
   "id": "e3e4ef60",
   "metadata": {},
   "outputs": [
    {
     "data": {
      "text/plain": [
       "[1.1071487177940904, 2.0344439357957027, 4.2487413713838835, 5.176036589385496]"
      ]
     },
     "execution_count": 129,
     "metadata": {},
     "output_type": "execute_result"
    }
   ],
   "source": [
    "[theta(Point(0,0),p) for p in points]"
   ]
  },
  {
   "cell_type": "code",
   "execution_count": 169,
   "id": "6f243eb7",
   "metadata": {},
   "outputs": [
    {
     "data": {
      "text/plain": [
       "[5, 6, 3, 4]"
      ]
     },
     "execution_count": 169,
     "metadata": {},
     "output_type": "execute_result"
    }
   ],
   "source": [
    "def rank(x):\n",
    "    return x % 5\n",
    "foo = [5,4,6,7,3]\n",
    "foo.sort(key=rank)\n",
    "foo.append(7)\n",
    "for i,f in enumerate(foo):\n",
    "    if f == 7:\n",
    "        foo.pop(i)\n",
    "foo"
   ]
  },
  {
   "cell_type": "code",
   "execution_count": 162,
   "id": "35676b66",
   "metadata": {},
   "outputs": [],
   "source": [
    "class Foo:\n",
    "    @classmethod\n",
    "    def hello(cls):\n",
    "        return \"Hello\"\n",
    "    \n",
    "    def __init__(self, name):\n",
    "        self.name = name\n",
    "    \n",
    "    def greet(self):\n",
    "        return foo.hello() + f', I am {self.name}'\n",
    "        #return self.hello()"
   ]
  },
  {
   "cell_type": "code",
   "execution_count": 167,
   "id": "1b04e585",
   "metadata": {},
   "outputs": [
    {
     "data": {
      "text/plain": [
       "True"
      ]
     },
     "execution_count": 167,
     "metadata": {},
     "output_type": "execute_result"
    }
   ],
   "source": [
    "foo = Foo(\"Fred\")\n",
    "foo.greet()\n",
    "fee = foo\n",
    "fee.name = \"Sally\"\n",
    "foo.greet()\n",
    "type(foo) == Foo"
   ]
  }
 ],
 "metadata": {
  "kernelspec": {
   "display_name": "lc2",
   "language": "python",
   "name": "lc2"
  },
  "language_info": {
   "codemirror_mode": {
    "name": "ipython",
    "version": 3
   },
   "file_extension": ".py",
   "mimetype": "text/x-python",
   "name": "python",
   "nbconvert_exporter": "python",
   "pygments_lexer": "ipython3",
   "version": "3.11.6"
  }
 },
 "nbformat": 4,
 "nbformat_minor": 5
}

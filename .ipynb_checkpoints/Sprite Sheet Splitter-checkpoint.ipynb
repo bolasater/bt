{
 "cells": [
  {
   "cell_type": "code",
   "execution_count": 2,
   "id": "2cabd57e",
   "metadata": {},
   "outputs": [],
   "source": [
    "#Imports\n",
    "import random\n",
    "import arcade\n",
    "import os\n",
    "from pathlib import Path\n",
    "from enum import Enum\n",
    "from PIL import Image"
   ]
  },
  {
   "cell_type": "code",
   "execution_count": 12,
   "id": "dfeb20c5",
   "metadata": {},
   "outputs": [],
   "source": [
    "#configuration\n",
    "Sprite_part = Enum('Sprite_part',['BEHIND', 'BODY', 'FEET', 'LEGS', 'TORSO', 'BELT', 'HEAD', 'HANDS', 'SHEILD', 'WEAPON'])\n",
    "Action = Enum('Action',['shoot','hurt','slash','slash_reverse','spellcast','thrust','walk']) #slash_reverse.  not supported\n",
    "\n",
    "#what actions use the weapon art?  Is the art oversized?\n",
    "# weapon_actions ={\n",
    "#     'dagger': ,\n",
    "#     'long_sword':,\n",
    "#     'spear':,\n",
    "#     'crystal_staff':,\n",
    "#     'bow':,\n",
    "#     'crossbow':\n",
    "    \n",
    "# }\n",
    "sprite_part_options = {\n",
    "    Sprite_part.BEHIND:['quiver'],\n",
    "    Sprite_part.BODY:['human', 'skeleton','goblin','boar','lizard','minotaur','troll','wolf'],\n",
    "    Sprite_part.FEET:['plate_armor_shoes', 'shoes_brown'],\n",
    "    Sprite_part.LEGS:['pants_greenish', 'plate_armor_pants', 'robe_skirt'],\n",
    "    Sprite_part.TORSO:['chain_armor_jacket_purple', 'chain_armor_torso', 'leather_armor_bracers', 'leather_armor_shirt_white', 'leather_armor_shoulders', 'leather_armor_torso', 'plate_armor_arms_shoulders', 'plate_armor_torso', 'robe_shirt_brown'],\n",
    "    Sprite_part.BELT:['leather', 'rope'],\n",
    "    Sprite_part.HEAD:['chain_armor_helmet', 'chain_armor_hood', 'hair_blonde', 'leather_armor_hat', 'plate_armor_helmet', 'robe_hood'],\n",
    "    Sprite_part.HANDS:['plate_armor_gloves'],\n",
    "    Sprite_part.WEAPON:['dagger', 'spear', 'crystal_staff', 'bow', 'arrow', \n",
    "                        'shield_cutout_body', 'shield_cutout_chain_armor_helmet']}\n",
    "\n",
    "std_sprite_wd, std_sprite_ht = 64,64\n",
    "sprite_sheet_dims = { #columns, rows for normal\n",
    "    Action.shoot:(13,4),\n",
    "    Action.hurt:(6,1),\n",
    "    Action.slash:(6,4),\n",
    "    Action.spellcast:(7,4),\n",
    "    Action.slash_reverse:(6,4)\n",
    "    Action.thrust:(8,4),\n",
    "    Action.walk:(9,4)\n",
    "}\n",
    "ov_sprite_wd = 192\n",
    "\n",
    "textures = {}"
   ]
  },
  {
   "cell_type": "code",
   "execution_count": 13,
   "id": "217e4827",
   "metadata": {},
   "outputs": [],
   "source": [
    "#Crop orders.  What are the actions in the art file?  Which ones are oversized? Which are empty? (action,oversized?,empty?)\n",
    "long_sword_crop_order = [\n",
    "    (Action.spellcast,0,0),\n",
    "    (Action.thrust,0,0), \n",
    "    (Action.walk,0,1),\n",
    "    (Action.slash,0,0), \n",
    "    (Action.shoot,0,0), \n",
    "    (Action.hurt,0,1),\n",
    "    (Action.slash,1,1), \n",
    "    (Action.slash_reverse,1,1),\n",
    "    (Action.thrust,1,1)]\n",
    "\n",
    "crystal_staff_crop_order = [\n",
    "    (Action.spellcast,0,0),\n",
    "    (Action.thrust,0,0), \n",
    "    (Action.walk,0,1,0),\n",
    "    (Action.slash,0,0), \n",
    "    (Action.shoot,0,0), \n",
    "    (Action.hurt,0,1),\n",
    "    (Action.thrust,1,1)]"
   ]
  },
  {
   "cell_type": "code",
   "execution_count": 21,
   "id": "17b34c5c",
   "metadata": {},
   "outputs": [],
   "source": [
    "#Split function \n",
    "#breaks up large png into smaller action based pngs in proper dirs\n",
    "def split_png (base_name, sprite_part, crop_order):\n",
    "    root_path = Path('.')/ 'textures' / 'png'\n",
    "    source_path = root_path / '01_raw' / f'{sprite_part}' / f'{base_name}.png'\n",
    "    img = Image.open(source_path.as_posix())\n",
    "    lower = 0\n",
    "    for i,thruple in enumerate(crop_order):\n",
    "        a,is_empty,is_ov = thruple\n",
    "        cols,rows = sprite_sheet_dims[a]\n",
    "        left = 0\n",
    "        if is_ov:\n",
    "            sprite_wd, sprite_ht = 192,192\n",
    "        else:\n",
    "            sprite_wd, sprite_ht = 64,64\n",
    "        upper = lower #i*4*sprite_ht\n",
    "        right = cols*sprite_wd\n",
    "        lower = upper + rows*sprite_ht\n",
    "        box = (0,upper,right,lower)\n",
    "        print(f'{a.name}: box:{(0,upper,right,lower)}')\n",
    "        t_img = img.crop(box)\n",
    "        save_path = root_path / '02_source' / a.name /  f'{sprite_part}_{base_name}.png'\n",
    "        t_img.save(save_path.as_posix())"
   ]
  },
  {
   "cell_type": "code",
   "execution_count": 22,
   "id": "7ecb5f43",
   "metadata": {},
   "outputs": [
    {
     "name": "stdout",
     "output_type": "stream",
     "text": [
      "spellcast: box:(0, 0, 448, 256)\n",
      "thrust: box:(0, 256, 512, 512)\n",
      "walk: box:(0, 512, 1728, 1280)\n",
      "slash: box:(0, 1280, 384, 1536)\n",
      "shoot: box:(0, 1536, 832, 1792)\n",
      "hurt: box:(0, 1792, 1152, 1984)\n",
      "slash: box:(0, 1984, 1152, 2752)\n"
     ]
    },
    {
     "ename": "KeyError",
     "evalue": "<Action.slash_reverse: 4>",
     "output_type": "error",
     "traceback": [
      "\u001b[0;31m---------------------------------------------------------------------------\u001b[0m",
      "\u001b[0;31mKeyError\u001b[0m                                  Traceback (most recent call last)",
      "Cell \u001b[0;32mIn[22], line 12\u001b[0m\n\u001b[1;32m      1\u001b[0m \u001b[38;5;66;03m#weapons = ['long_sword','crystal_staff','spear','crossbow']\u001b[39;00m\n\u001b[1;32m      2\u001b[0m long_sword_crop_order \u001b[38;5;241m=\u001b[39m [\n\u001b[1;32m      3\u001b[0m     (Action\u001b[38;5;241m.\u001b[39mspellcast,\u001b[38;5;241m0\u001b[39m,\u001b[38;5;241m0\u001b[39m),\n\u001b[1;32m      4\u001b[0m     (Action\u001b[38;5;241m.\u001b[39mthrust,\u001b[38;5;241m0\u001b[39m,\u001b[38;5;241m0\u001b[39m), \n\u001b[0;32m   (...)\u001b[0m\n\u001b[1;32m     10\u001b[0m     (Action\u001b[38;5;241m.\u001b[39mslash_reverse,\u001b[38;5;241m1\u001b[39m,\u001b[38;5;241m1\u001b[39m),\n\u001b[1;32m     11\u001b[0m     (Action\u001b[38;5;241m.\u001b[39mthrust,\u001b[38;5;241m1\u001b[39m,\u001b[38;5;241m1\u001b[39m)]\n\u001b[0;32m---> 12\u001b[0m \u001b[43msplit_png\u001b[49m\u001b[43m(\u001b[49m\u001b[38;5;124;43m'\u001b[39;49m\u001b[38;5;124;43mlong_sword\u001b[39;49m\u001b[38;5;124;43m'\u001b[39;49m\u001b[43m,\u001b[49m\u001b[38;5;124;43m'\u001b[39;49m\u001b[38;5;124;43mWEAPON\u001b[39;49m\u001b[38;5;124;43m'\u001b[39;49m\u001b[43m,\u001b[49m\u001b[43mlong_sword_crop_order\u001b[49m\u001b[43m)\u001b[49m\n",
      "Cell \u001b[0;32mIn[21], line 10\u001b[0m, in \u001b[0;36msplit_png\u001b[0;34m(base_name, sprite_part, crop_order)\u001b[0m\n\u001b[1;32m      8\u001b[0m \u001b[38;5;28;01mfor\u001b[39;00m i,thruple \u001b[38;5;129;01min\u001b[39;00m \u001b[38;5;28menumerate\u001b[39m(crop_order):\n\u001b[1;32m      9\u001b[0m     a,is_empty,is_ov \u001b[38;5;241m=\u001b[39m thruple\n\u001b[0;32m---> 10\u001b[0m     cols,rows \u001b[38;5;241m=\u001b[39m \u001b[43msprite_sheet_dims\u001b[49m\u001b[43m[\u001b[49m\u001b[43ma\u001b[49m\u001b[43m]\u001b[49m\n\u001b[1;32m     11\u001b[0m     left \u001b[38;5;241m=\u001b[39m \u001b[38;5;241m0\u001b[39m\n\u001b[1;32m     12\u001b[0m     \u001b[38;5;28;01mif\u001b[39;00m is_ov:\n",
      "\u001b[0;31mKeyError\u001b[0m: <Action.slash_reverse: 4>"
     ]
    }
   ],
   "source": [
    "#weapons = ['long_sword','crystal_staff','spear','crossbow']\n",
    "long_sword_crop_order = [\n",
    "    (Action.spellcast,0,0),\n",
    "    (Action.thrust,0,0), \n",
    "    (Action.walk,0,1),\n",
    "    (Action.slash,0,0), \n",
    "    (Action.shoot,0,0), \n",
    "    (Action.hurt,0,1),\n",
    "    (Action.slash,1,1), \n",
    "    (Action.slash_reverse,1,1),\n",
    "    (Action.thrust,1,1)]\n",
    "split_png('long_sword','WEAPON',long_sword_crop_order)"
   ]
  },
  {
   "cell_type": "code",
   "execution_count": null,
   "id": "099c9e6b",
   "metadata": {},
   "outputs": [],
   "source": [
    "crystal_staff_crop_order = [\n",
    "    ActionOversize.spellcast,ActionOversize.thrust, \n",
    "    ActionOversize.walkcycle,ActionOversize.slash, \n",
    "    ActionOversize.bow, ActionOversize.hurt,\n",
    "    ActionOversize.thrust_oversize]\n",
    "split_weapon_png('crystal_staff',crystal_staff_crop_order)"
   ]
  },
  {
   "cell_type": "code",
   "execution_count": null,
   "id": "128b5506",
   "metadata": {},
   "outputs": [],
   "source": [
    "#debug split_png\n",
    "def test_split_png(src_file,crop_box,dest_file): #ex. 'long_sword.png',(0, 1344, 1152, 2112),'long_sword_slash_oversize.png'\n",
    "    src_path = Path('.') / 'textures' / 'png' / '_source' / src_file\n",
    "    test_img = Image.open(src_path.as_posix())\n",
    "    cropped_img = test_img.crop(crop_box)\n",
    "    save_path = Path('.') / 'textures' / 'png' / '_source' / dest_file\n",
    "    cropped_img.save(save_path.as_posix())"
   ]
  }
 ],
 "metadata": {
  "kernelspec": {
   "display_name": "lc2",
   "language": "python",
   "name": "lc2"
  },
  "language_info": {
   "codemirror_mode": {
    "name": "ipython",
    "version": 3
   },
   "file_extension": ".py",
   "mimetype": "text/x-python",
   "name": "python",
   "nbconvert_exporter": "python",
   "pygments_lexer": "ipython3",
   "version": "3.11.6"
  }
 },
 "nbformat": 4,
 "nbformat_minor": 5
}

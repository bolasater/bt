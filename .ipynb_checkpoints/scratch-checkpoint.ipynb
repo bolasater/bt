{
 "cells": [
  {
   "cell_type": "code",
   "execution_count": 2,
   "id": "bc580853",
   "metadata": {},
   "outputs": [],
   "source": [
    "import random\n",
    "import arcade\n",
    "import os\n",
    "from pathlib import Path\n",
    "from enum import Enum"
   ]
  },
  {
   "cell_type": "code",
   "execution_count": 6,
   "id": "af977c52",
   "metadata": {},
   "outputs": [],
   "source": [
    "class Mob(arcade.SpriteList):\n",
    "    Sprite_part = Enum('Sprite_part',[\n",
    "        'WEAPON',\n",
    "        'HANDS',\n",
    "        'HEAD',\n",
    "        'BELT',\n",
    "        'TORSO',\n",
    "        'LEGS',\n",
    "        'FEET',\n",
    "        'BODY',\n",
    "        'BEHIND'\n",
    "    ])\n",
    "\n",
    "    sprite_wd, sprite_ht = 64,64\n",
    "    frames_per_sheet = 7\n",
    "    rows_per_sheet = 4\n",
    "    textures = {}\n",
    "\n",
    "    body_part = ['WEAPON','HANDS','HEAD','BELT','TORSO','LEGS','FEET','BODY','BEHIND']\n",
    "    action = ['bow','hurt','slash','spellcast','thrust','walkcycle']\n",
    "    behind = ['quiver']\n",
    "    belt = ['leather','rope']\n",
    "    body = ['human','skeleton']\n",
    "    feet = ['plate_armor_shoes','shoes_brown']\n",
    "    hands = ['plate_armor_gloves']\n",
    "    head = ['chain armor_helmet','chain_armor_hood','hair_blonde','leather_armor_hat','plate_armor_helmet','robe_hood']\n",
    "    legs = ['pants_greenish','plate_armor_pants','robe_skirt']\n",
    "    torso = ['chain_armor_jacket_purple','chain_armor_torso','leather_armor_bracers',\n",
    "                'leather_armor_shirt_white','leather_armor_shoulders','leather_armor_torso',\n",
    "                'plate_armor_arms_shoulders','plate_armor_torso','robe_shirt_brown']\n",
    "    weapon = ['spear','dagger','staff','bow','arrow','shield_cutout_body','shield_cutout_chain_armor_helmet']\n",
    "\n",
    "\n",
    "    @classmethod\n",
    "    def load_mob_textures(cls): #builds nested dicts of textures\n",
    "            \n",
    "        sublocns = [[cls.sprite_wd*i,cls.sprite_ht*j,cls.sprite_wd,cls.sprite_ht] for i in range(cls.frames_per_sheet) for j in range(cls.rows_per_sheet)]\n",
    "\n",
    "        root = Path('.')/ 'textures' / 'png'\n",
    "        for a in cls.action:\n",
    "                for b in cls.body_part:\n",
    "                    parts = eval(f'cls.{b.lower()}')\n",
    "                    for p in parts:\n",
    "                        f = (f'{b}_{p}.png')  \n",
    "                        q = root / a / f\n",
    "                        if q.exists():\n",
    "                            fn = q.as_posix()\n",
    "                            print(a,b,p,fn)\n",
    "                            cls.textures.setdefault(a,{}).setdefault(b,{}).setdefault(p,0)#arcade.load_textures(fn,sublocns))\n",
    "\n",
    "\n",
    "\n",
    "\n",
    "    def __init__(self):\n",
    "        super().__init__()\n",
    "        self.belt = 'leather'\n",
    "        self.body = 'human'\n",
    "        self.feet = 'shoes_brown'\n",
    "        self.head = 'leather_armor_hat'\n",
    "        self.legs = 'pants_greenish'\n",
    "        self.torso = 'leather_armor_bracers'\n",
    "        #self.action = 'walkcycle'\n",
    "        self.action = 'walking' #climbing, jumping\n",
    "        # Track our state\n",
    "        self.jumping = False\n",
    "        self.climbing = False\n",
    "        self.is_on_ladder = False\n",
    "        self.frame = 0\n",
    "        self.facing = 2 #0 is up; 1 left; 2 down; 3 down\n",
    "        self.cur_texture = None\n",
    "        self.textures={}\n",
    "\n",
    "        # load textures\n",
    "        if Mob.textures == {}:\n",
    "            Mob.load_mob_textures()"
   ]
  },
  {
   "cell_type": "code",
   "execution_count": 9,
   "id": "22ca4e5e",
   "metadata": {},
   "outputs": [],
   "source": [
    "bob = Mob()"
   ]
  },
  {
   "cell_type": "code",
   "execution_count": 11,
   "id": "2d935308",
   "metadata": {},
   "outputs": [
    {
     "ename": "ValueError",
     "evalue": "Can't load texture ending at an y of 128 when the image is only 64 high.",
     "output_type": "error",
     "traceback": [
      "\u001b[0;31m---------------------------------------------------------------------------\u001b[0m",
      "\u001b[0;31mValueError\u001b[0m                                Traceback (most recent call last)",
      "Cell \u001b[0;32mIn[11], line 1\u001b[0m\n\u001b[0;32m----> 1\u001b[0m \u001b[43mMob\u001b[49m\u001b[38;5;241;43m.\u001b[39;49m\u001b[43mload_mob_textures\u001b[49m\u001b[43m(\u001b[49m\u001b[43m)\u001b[49m\n",
      "Cell \u001b[0;32mIn[6], line 48\u001b[0m, in \u001b[0;36mMob.load_mob_textures\u001b[0;34m(cls)\u001b[0m\n\u001b[1;32m     46\u001b[0m \u001b[38;5;28;01mif\u001b[39;00m q\u001b[38;5;241m.\u001b[39mexists():\n\u001b[1;32m     47\u001b[0m     fn \u001b[38;5;241m=\u001b[39m q\u001b[38;5;241m.\u001b[39mas_posix()\n\u001b[0;32m---> 48\u001b[0m     \u001b[38;5;28mcls\u001b[39m\u001b[38;5;241m.\u001b[39mtextures\u001b[38;5;241m.\u001b[39msetdefault(a,{})\u001b[38;5;241m.\u001b[39msetdefault(b,{})\u001b[38;5;241m.\u001b[39msetdefault(p,\u001b[43marcade\u001b[49m\u001b[38;5;241;43m.\u001b[39;49m\u001b[43mload_textures\u001b[49m\u001b[43m(\u001b[49m\u001b[43mfn\u001b[49m\u001b[43m,\u001b[49m\u001b[43msublocns\u001b[49m\u001b[43m)\u001b[49m)\n",
      "File \u001b[0;32m~/anaconda3/envs/lc2/lib/python3.11/site-packages/arcade/texture.py:395\u001b[0m, in \u001b[0;36mload_textures\u001b[0;34m(file_name, image_location_list, mirrored, flipped, hit_box_algorithm, hit_box_detail)\u001b[0m\n\u001b[1;32m    391\u001b[0m     \u001b[38;5;28;01mraise\u001b[39;00m \u001b[38;5;167;01mValueError\u001b[39;00m(\u001b[38;5;124m\"\u001b[39m\u001b[38;5;124mCan\u001b[39m\u001b[38;5;124m'\u001b[39m\u001b[38;5;124mt load texture ending at an x of \u001b[39m\u001b[38;5;132;01m{}\u001b[39;00m\u001b[38;5;124m \u001b[39m\u001b[38;5;124m\"\u001b[39m\n\u001b[1;32m    392\u001b[0m                      \u001b[38;5;124m\"\u001b[39m\u001b[38;5;124mwhen the image is only \u001b[39m\u001b[38;5;132;01m{}\u001b[39;00m\u001b[38;5;124m wide.\u001b[39m\u001b[38;5;124m\"\u001b[39m\n\u001b[1;32m    393\u001b[0m                      \u001b[38;5;241m.\u001b[39mformat(x \u001b[38;5;241m+\u001b[39m width, source_image_width))\n\u001b[1;32m    394\u001b[0m \u001b[38;5;28;01mif\u001b[39;00m y \u001b[38;5;241m+\u001b[39m height \u001b[38;5;241m>\u001b[39m source_image_height:\n\u001b[0;32m--> 395\u001b[0m     \u001b[38;5;28;01mraise\u001b[39;00m \u001b[38;5;167;01mValueError\u001b[39;00m(\u001b[38;5;124m\"\u001b[39m\u001b[38;5;124mCan\u001b[39m\u001b[38;5;124m'\u001b[39m\u001b[38;5;124mt load texture ending at an y of \u001b[39m\u001b[38;5;132;01m{}\u001b[39;00m\u001b[38;5;124m \u001b[39m\u001b[38;5;124m\"\u001b[39m\n\u001b[1;32m    396\u001b[0m                      \u001b[38;5;124m\"\u001b[39m\u001b[38;5;124mwhen the image is only \u001b[39m\u001b[38;5;132;01m{}\u001b[39;00m\u001b[38;5;124m high.\u001b[39m\u001b[38;5;124m\"\u001b[39m\n\u001b[1;32m    397\u001b[0m                      \u001b[38;5;241m.\u001b[39mformat(y \u001b[38;5;241m+\u001b[39m height, source_image_height))\n\u001b[1;32m    399\u001b[0m \u001b[38;5;66;03m# See if we already loaded this texture, and we can just use a cached version.\u001b[39;00m\n\u001b[1;32m    400\u001b[0m cache_name \u001b[38;5;241m=\u001b[39m \u001b[38;5;124m\"\u001b[39m\u001b[38;5;132;01m{}\u001b[39;00m\u001b[38;5;132;01m{}\u001b[39;00m\u001b[38;5;132;01m{}\u001b[39;00m\u001b[38;5;132;01m{}\u001b[39;00m\u001b[38;5;132;01m{}\u001b[39;00m\u001b[38;5;132;01m{}\u001b[39;00m\u001b[38;5;132;01m{}\u001b[39;00m\u001b[38;5;124m\"\u001b[39m\u001b[38;5;241m.\u001b[39mformat(file_name, x, y, width, height, flipped, mirrored)\n",
      "\u001b[0;31mValueError\u001b[0m: Can't load texture ending at an y of 128 when the image is only 64 high."
     ]
    }
   ],
   "source": [
    "Mob.load_mob_textures()"
   ]
  }
 ],
 "metadata": {
  "kernelspec": {
   "display_name": "lc2",
   "language": "python",
   "name": "lc2"
  },
  "language_info": {
   "codemirror_mode": {
    "name": "ipython",
    "version": 3
   },
   "file_extension": ".py",
   "mimetype": "text/x-python",
   "name": "python",
   "nbconvert_exporter": "python",
   "pygments_lexer": "ipython3",
   "version": "3.11.6"
  }
 },
 "nbformat": 4,
 "nbformat_minor": 5
}

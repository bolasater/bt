{
 "cells": [
  {
   "cell_type": "code",
   "execution_count": 26,
   "id": "f03d12c6",
   "metadata": {},
   "outputs": [],
   "source": [
    "from mobmodel import MobTypeModel, MobModel, GameModel, Action"
   ]
  },
  {
   "cell_type": "code",
   "execution_count": 7,
   "id": "c06a59dc",
   "metadata": {},
   "outputs": [],
   "source": [
    "from enum import Enum"
   ]
  },
  {
   "cell_type": "code",
   "execution_count": 30,
   "id": "45041294",
   "metadata": {},
   "outputs": [],
   "source": [
    "import json\n",
    "\n",
    "with open('mobs.json') as f:\n",
    "    data = json.load(f)"
   ]
  },
  {
   "cell_type": "code",
   "execution_count": 31,
   "id": "22be9fa5",
   "metadata": {},
   "outputs": [
    {
     "data": {
      "text/plain": [
       "{'mob_types': [{'name': 'fighter',\n",
       "   'dmg_health_split': 0.5,\n",
       "   'mvt': 1.5,\n",
       "   'atk_stats_list': [{'atk': 'thrust', 'rng': 1, 'atks_sec': 1}]},\n",
       "  {'name': 'archer',\n",
       "   'dmg_health_split': 0.6,\n",
       "   'mvt': 1,\n",
       "   'atk_stats_list': [{'atk': 'shoot', 'rng': 5, 'atks_sec': 1}]}],\n",
       " 'mobs': [{'mob_type': 'fighter', 'level': 2, 'team': 0},\n",
       "  {'mob_type': 'archer', 'level': 1, 'team': 1}]}"
      ]
     },
     "execution_count": 31,
     "metadata": {},
     "output_type": "execute_result"
    }
   ],
   "source": [
    "mob_types_data = data[\"mob_types\"]\n",
    "mobs_data = data[\"mobs\"]\n",
    "data"
   ]
  },
  {
   "cell_type": "code",
   "execution_count": 45,
   "id": "2f736939",
   "metadata": {},
   "outputs": [
    {
     "name": "stdout",
     "output_type": "stream",
     "text": [
      "{'atk': <Action.thrust: 5>, 'rng': 1, 'atks_sec': 1}\n",
      "{'atk': <Action.shoot: 1>, 'rng': 5, 'atks_sec': 1}\n"
     ]
    }
   ],
   "source": [
    "mob_types = []\n",
    "for mtd in mob_types_data:\n",
    "    atk_stats_list = []\n",
    "    for a_list in mtd['atk_stats_list']:\n",
    "        atk_stats = {k:(v if k != 'atk' else Action[v]) for k,v in a_list.items()}\n",
    "        atk_stats_list.append()\n",
    "\n",
    "    mob_types.append(\n",
    "        MobTypeModel(\n",
    "            mtd['name'],\n",
    "            mtd['dmg_health_split'],\n",
    "            mtd['mvt'],\n",
    "            atk_stats\n",
    "        ))"
   ]
  }
 ],
 "metadata": {
  "kernelspec": {
   "display_name": "lc2",
   "language": "python",
   "name": "lc2"
  },
  "language_info": {
   "codemirror_mode": {
    "name": "ipython",
    "version": 3
   },
   "file_extension": ".py",
   "mimetype": "text/x-python",
   "name": "python",
   "nbconvert_exporter": "python",
   "pygments_lexer": "ipython3",
   "version": "3.11.6"
  }
 },
 "nbformat": 4,
 "nbformat_minor": 5
}

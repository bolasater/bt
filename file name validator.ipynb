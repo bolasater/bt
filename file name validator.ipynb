{
 "cells": [
  {
   "cell_type": "code",
   "execution_count": 2,
   "id": "b1bbd484",
   "metadata": {},
   "outputs": [
    {
     "data": {
      "text/plain": [
       "[PosixPath('textures/png/spellcast'),\n",
       " PosixPath('textures/png/bow'),\n",
       " PosixPath('textures/png/hurt'),\n",
       " PosixPath('textures/png/walkcycle'),\n",
       " PosixPath('textures/png/slash'),\n",
       " PosixPath('textures/png/thrust')]"
      ]
     },
     "execution_count": 2,
     "metadata": {},
     "output_type": "execute_result"
    }
   ],
   "source": [
    "from pathlib import Path\n",
    "p = Path('./textures/png')\n",
    "from PIL import Image\n",
    "[x for x in p.iterdir() if x.is_dir()]"
   ]
  },
  {
   "cell_type": "code",
   "execution_count": 5,
   "id": "aaed4bb9",
   "metadata": {},
   "outputs": [
    {
     "data": {
      "text/plain": [
       "True"
      ]
     },
     "execution_count": 5,
     "metadata": {},
     "output_type": "execute_result"
    }
   ],
   "source": [
    "p = Path('.')\n",
    "p = p / 'textures' / 'png'"
   ]
  },
  {
   "cell_type": "code",
   "execution_count": 18,
   "id": "258a0347",
   "metadata": {},
   "outputs": [],
   "source": [
    "body_part = ['WEAPON','HANDS','HEAD','BELT','TORSO','LEGS','FEET','BODY','BEHIND']\n",
    "action = ['bow','hurt','slash','spellcast','thrust','walkcycle']\n",
    "behind = ['quiver']\n",
    "belt = ['leather','rope']\n",
    "body = ['human','skeleton']\n",
    "feet = ['plate_armor_shoes','shoes_brown']\n",
    "hands = ['plate_armor_gloves']\n",
    "head = ['chain armor_helmet','chain_armor_hood','hair_blonde','leather_armor_hat','plate_armor_helmet','robe_hood']\n",
    "legs = ['pants_greenish','plate_armor_pants','robe_skirt']\n",
    "torso = ['chain_armor_jacket_purple','chain_armor_torso','leather_armor_bracers',\n",
    "             'leather_armor_shirt_white','leather_armor_shoulders','leather_armor_torso',\n",
    "             'plate_armor_arms_shoulders','plate_armor_torso','robe_shirt_brown']\n",
    "weapon = ['spear','dagger','staff','bow','arrow','shield_cutout_body','shield_cutout_chain_armor_helmet']"
   ]
  },
  {
   "cell_type": "code",
   "execution_count": 19,
   "id": "0b82d34f",
   "metadata": {},
   "outputs": [],
   "source": [
    "texture_dict = []\n",
    "for b in body_part:\n",
    "    foo = eval(b.lower())\n",
    "    for a in foo:\n",
    "        filenames.append(f'{b}_{a}.png')   "
   ]
  },
  {
   "cell_type": "code",
   "execution_count": 55,
   "id": "a6376e3d",
   "metadata": {},
   "outputs": [],
   "source": [
    "textures = {}\n",
    "def build_textures(text_dict):\n",
    "    root = Path('.')/ 'textures' / 'png'\n",
    "    for a in action:\n",
    "        for f in filenames:\n",
    "            for b in body_part:\n",
    "                parts = eval(b.lower())\n",
    "                for p in parts:\n",
    "                    f = (f'{b}_{p}.png')  \n",
    "                    q = root / a / f\n",
    "                    if q.exists():\n",
    "                        fn = q.as_posix()\n",
    "                        sz = tuple(map(lambda a:a//64,Image.open(fn).size))\n",
    "                        text_dict.setdefault(a,{}).setdefault(b,{}).setdefault(p,f'{sz}:{fn}')\n",
    "                "
   ]
  },
  {
   "cell_type": "code",
   "execution_count": 56,
   "id": "d2d53f10",
   "metadata": {},
   "outputs": [],
   "source": [
    "build_textures(textures)"
   ]
  },
  {
   "cell_type": "code",
   "execution_count": 57,
   "id": "17a8573f",
   "metadata": {},
   "outputs": [
    {
     "data": {
      "text/plain": [
       "{'bow': {'WEAPON': {'bow': '(13, 4):textures/png/bow/WEAPON_bow.png',\n",
       "   'arrow': '(13, 4):textures/png/bow/WEAPON_arrow.png'},\n",
       "  'HANDS': {'plate_armor_gloves': '(13, 4):textures/png/bow/HANDS_plate_armor_gloves.png'},\n",
       "  'HEAD': {'chain_armor_hood': '(13, 4):textures/png/bow/HEAD_chain_armor_hood.png',\n",
       "   'hair_blonde': '(13, 4):textures/png/bow/HEAD_hair_blonde.png',\n",
       "   'leather_armor_hat': '(13, 4):textures/png/bow/HEAD_leather_armor_hat.png',\n",
       "   'plate_armor_helmet': '(13, 4):textures/png/bow/HEAD_plate_armor_helmet.png',\n",
       "   'robe_hood': '(13, 4):textures/png/bow/HEAD_robe_hood.png'},\n",
       "  'BELT': {'leather': '(13, 4):textures/png/bow/BELT_leather.png',\n",
       "   'rope': '(13, 4):textures/png/bow/BELT_rope.png'},\n",
       "  'TORSO': {'chain_armor_jacket_purple': '(13, 4):textures/png/bow/TORSO_chain_armor_jacket_purple.png',\n",
       "   'chain_armor_torso': '(13, 4):textures/png/bow/TORSO_chain_armor_torso.png',\n",
       "   'leather_armor_bracers': '(13, 4):textures/png/bow/TORSO_leather_armor_bracers.png',\n",
       "   'leather_armor_shirt_white': '(13, 4):textures/png/bow/TORSO_leather_armor_shirt_white.png',\n",
       "   'leather_armor_shoulders': '(13, 4):textures/png/bow/TORSO_leather_armor_shoulders.png',\n",
       "   'leather_armor_torso': '(13, 4):textures/png/bow/TORSO_leather_armor_torso.png',\n",
       "   'plate_armor_arms_shoulders': '(13, 4):textures/png/bow/TORSO_plate_armor_arms_shoulders.png',\n",
       "   'plate_armor_torso': '(13, 4):textures/png/bow/TORSO_plate_armor_torso.png',\n",
       "   'robe_shirt_brown': '(13, 4):textures/png/bow/TORSO_robe_shirt_brown.png'},\n",
       "  'LEGS': {'pants_greenish': '(13, 4):textures/png/bow/LEGS_pants_greenish.png',\n",
       "   'plate_armor_pants': '(13, 4):textures/png/bow/LEGS_plate_armor_pants.png',\n",
       "   'robe_skirt': '(13, 4):textures/png/bow/LEGS_robe_skirt.png'},\n",
       "  'FEET': {'plate_armor_shoes': '(13, 4):textures/png/bow/FEET_plate_armor_shoes.png',\n",
       "   'shoes_brown': '(13, 4):textures/png/bow/FEET_shoes_brown.png'},\n",
       "  'BODY': {'human': '(13, 4):textures/png/bow/BODY_human.png',\n",
       "   'skeleton': '(13, 4):textures/png/bow/BODY_skeleton.png'},\n",
       "  'BEHIND': {'quiver': '(13, 4):textures/png/bow/BEHIND_quiver.png'}},\n",
       " 'hurt': {'HANDS': {'plate_armor_gloves': '(6, 1):textures/png/hurt/HANDS_plate_armor_gloves.png'},\n",
       "  'HEAD': {'chain_armor_hood': '(6, 1):textures/png/hurt/HEAD_chain_armor_hood.png',\n",
       "   'hair_blonde': '(6, 1):textures/png/hurt/HEAD_hair_blonde.png',\n",
       "   'leather_armor_hat': '(6, 1):textures/png/hurt/HEAD_leather_armor_hat.png',\n",
       "   'plate_armor_helmet': '(6, 1):textures/png/hurt/HEAD_plate_armor_helmet.png',\n",
       "   'robe_hood': '(6, 1):textures/png/hurt/HEAD_robe_hood.png'},\n",
       "  'BELT': {'leather': '(6, 1):textures/png/hurt/BELT_leather.png',\n",
       "   'rope': '(6, 1):textures/png/hurt/BELT_rope.png'},\n",
       "  'TORSO': {'chain_armor_jacket_purple': '(6, 1):textures/png/hurt/TORSO_chain_armor_jacket_purple.png',\n",
       "   'chain_armor_torso': '(6, 1):textures/png/hurt/TORSO_chain_armor_torso.png',\n",
       "   'leather_armor_bracers': '(6, 1):textures/png/hurt/TORSO_leather_armor_bracers.png',\n",
       "   'leather_armor_shirt_white': '(6, 1):textures/png/hurt/TORSO_leather_armor_shirt_white.png',\n",
       "   'leather_armor_shoulders': '(6, 1):textures/png/hurt/TORSO_leather_armor_shoulders.png',\n",
       "   'leather_armor_torso': '(6, 1):textures/png/hurt/TORSO_leather_armor_torso.png',\n",
       "   'plate_armor_arms_shoulders': '(6, 1):textures/png/hurt/TORSO_plate_armor_arms_shoulders.png',\n",
       "   'plate_armor_torso': '(6, 1):textures/png/hurt/TORSO_plate_armor_torso.png',\n",
       "   'robe_shirt_brown': '(6, 1):textures/png/hurt/TORSO_robe_shirt_brown.png'},\n",
       "  'LEGS': {'pants_greenish': '(6, 1):textures/png/hurt/LEGS_pants_greenish.png',\n",
       "   'plate_armor_pants': '(6, 1):textures/png/hurt/LEGS_plate_armor_pants.png',\n",
       "   'robe_skirt': '(6, 1):textures/png/hurt/LEGS_robe_skirt.png'},\n",
       "  'FEET': {'plate_armor_shoes': '(6, 1):textures/png/hurt/FEET_plate_armor_shoes.png',\n",
       "   'shoes_brown': '(6, 1):textures/png/hurt/FEET_shoes_brown.png'},\n",
       "  'BODY': {'human': '(6, 1):textures/png/hurt/BODY_human.png',\n",
       "   'skeleton': '(6, 1):textures/png/hurt/BODY_skeleton.png'},\n",
       "  'BEHIND': {'quiver': '(6, 1):textures/png/hurt/BEHIND_quiver.png'}},\n",
       " 'slash': {'WEAPON': {'dagger': '(6, 4):textures/png/slash/WEAPON_dagger.png'},\n",
       "  'HANDS': {'plate_armor_gloves': '(6, 4):textures/png/slash/HANDS_plate_armor_gloves.png'},\n",
       "  'HEAD': {'chain_armor_hood': '(6, 4):textures/png/slash/HEAD_chain_armor_hood.png',\n",
       "   'hair_blonde': '(6, 4):textures/png/slash/HEAD_hair_blonde.png',\n",
       "   'leather_armor_hat': '(6, 4):textures/png/slash/HEAD_leather_armor_hat.png',\n",
       "   'plate_armor_helmet': '(6, 4):textures/png/slash/HEAD_plate_armor_helmet.png',\n",
       "   'robe_hood': '(6, 4):textures/png/slash/HEAD_robe_hood.png'},\n",
       "  'BELT': {'leather': '(6, 4):textures/png/slash/BELT_leather.png',\n",
       "   'rope': '(6, 4):textures/png/slash/BELT_rope.png'},\n",
       "  'TORSO': {'chain_armor_jacket_purple': '(6, 4):textures/png/slash/TORSO_chain_armor_jacket_purple.png',\n",
       "   'chain_armor_torso': '(6, 4):textures/png/slash/TORSO_chain_armor_torso.png',\n",
       "   'leather_armor_bracers': '(6, 4):textures/png/slash/TORSO_leather_armor_bracers.png',\n",
       "   'leather_armor_shirt_white': '(6, 4):textures/png/slash/TORSO_leather_armor_shirt_white.png',\n",
       "   'leather_armor_shoulders': '(6, 4):textures/png/slash/TORSO_leather_armor_shoulders.png',\n",
       "   'leather_armor_torso': '(6, 4):textures/png/slash/TORSO_leather_armor_torso.png',\n",
       "   'plate_armor_arms_shoulders': '(6, 4):textures/png/slash/TORSO_plate_armor_arms_shoulders.png',\n",
       "   'plate_armor_torso': '(6, 4):textures/png/slash/TORSO_plate_armor_torso.png',\n",
       "   'robe_shirt_brown': '(6, 4):textures/png/slash/TORSO_robe_shirt_brown.png'},\n",
       "  'LEGS': {'pants_greenish': '(6, 4):textures/png/slash/LEGS_pants_greenish.png',\n",
       "   'plate_armor_pants': '(6, 4):textures/png/slash/LEGS_plate_armor_pants.png',\n",
       "   'robe_skirt': '(6, 4):textures/png/slash/LEGS_robe_skirt.png'},\n",
       "  'FEET': {'plate_armor_shoes': '(6, 4):textures/png/slash/FEET_plate_armor_shoes.png',\n",
       "   'shoes_brown': '(6, 4):textures/png/slash/FEET_shoes_brown.png'},\n",
       "  'BODY': {'human': '(6, 4):textures/png/slash/BODY_human.png',\n",
       "   'skeleton': '(6, 4):textures/png/slash/BODY_skeleton.png'},\n",
       "  'BEHIND': {'quiver': '(6, 4):textures/png/slash/BEHIND_quiver.png'}},\n",
       " 'spellcast': {'HANDS': {'plate_armor_gloves': '(7, 4):textures/png/spellcast/HANDS_plate_armor_gloves.png'},\n",
       "  'HEAD': {'chain_armor_hood': '(7, 4):textures/png/spellcast/HEAD_chain_armor_hood.png',\n",
       "   'hair_blonde': '(7, 4):textures/png/spellcast/HEAD_hair_blonde.png',\n",
       "   'leather_armor_hat': '(7, 4):textures/png/spellcast/HEAD_leather_armor_hat.png',\n",
       "   'plate_armor_helmet': '(7, 4):textures/png/spellcast/HEAD_plate_armor_helmet.png',\n",
       "   'robe_hood': '(7, 4):textures/png/spellcast/HEAD_robe_hood.png'},\n",
       "  'BELT': {'leather': '(7, 4):textures/png/spellcast/BELT_leather.png',\n",
       "   'rope': '(7, 4):textures/png/spellcast/BELT_rope.png'},\n",
       "  'TORSO': {'chain_armor_jacket_purple': '(7, 4):textures/png/spellcast/TORSO_chain_armor_jacket_purple.png',\n",
       "   'chain_armor_torso': '(7, 4):textures/png/spellcast/TORSO_chain_armor_torso.png',\n",
       "   'leather_armor_bracers': '(7, 4):textures/png/spellcast/TORSO_leather_armor_bracers.png',\n",
       "   'leather_armor_shirt_white': '(7, 4):textures/png/spellcast/TORSO_leather_armor_shirt_white.png',\n",
       "   'leather_armor_shoulders': '(7, 4):textures/png/spellcast/TORSO_leather_armor_shoulders.png',\n",
       "   'leather_armor_torso': '(7, 4):textures/png/spellcast/TORSO_leather_armor_torso.png',\n",
       "   'plate_armor_arms_shoulders': '(7, 4):textures/png/spellcast/TORSO_plate_armor_arms_shoulders.png',\n",
       "   'plate_armor_torso': '(7, 4):textures/png/spellcast/TORSO_plate_armor_torso.png',\n",
       "   'robe_shirt_brown': '(7, 4):textures/png/spellcast/TORSO_robe_shirt_brown.png'},\n",
       "  'LEGS': {'pants_greenish': '(7, 4):textures/png/spellcast/LEGS_pants_greenish.png',\n",
       "   'plate_armor_pants': '(7, 4):textures/png/spellcast/LEGS_plate_armor_pants.png',\n",
       "   'robe_skirt': '(7, 4):textures/png/spellcast/LEGS_robe_skirt.png'},\n",
       "  'FEET': {'plate_armor_shoes': '(7, 4):textures/png/spellcast/FEET_plate_armor_shoes.png',\n",
       "   'shoes_brown': '(7, 4):textures/png/spellcast/FEET_shoes_brown.png'},\n",
       "  'BODY': {'human': '(7, 4):textures/png/spellcast/BODY_human.png',\n",
       "   'skeleton': '(7, 4):textures/png/spellcast/BODY_skeleton.png'},\n",
       "  'BEHIND': {'quiver': '(7, 4):textures/png/spellcast/BEHIND_quiver.png'}},\n",
       " 'thrust': {'WEAPON': {'spear': '(8, 4):textures/png/thrust/WEAPON_spear.png',\n",
       "   'staff': '(8, 4):textures/png/thrust/WEAPON_staff.png',\n",
       "   'shield_cutout_body': '(8, 4):textures/png/thrust/WEAPON_shield_cutout_body.png',\n",
       "   'shield_cutout_chain_armor_helmet': '(8, 4):textures/png/thrust/WEAPON_shield_cutout_chain_armor_helmet.png'},\n",
       "  'HANDS': {'plate_armor_gloves': '(8, 4):textures/png/thrust/HANDS_plate_armor_gloves.png'},\n",
       "  'HEAD': {'chain_armor_hood': '(8, 4):textures/png/thrust/HEAD_chain_armor_hood.png',\n",
       "   'hair_blonde': '(8, 4):textures/png/thrust/HEAD_hair_blonde.png',\n",
       "   'leather_armor_hat': '(8, 4):textures/png/thrust/HEAD_leather_armor_hat.png',\n",
       "   'plate_armor_helmet': '(8, 4):textures/png/thrust/HEAD_plate_armor_helmet.png',\n",
       "   'robe_hood': '(8, 4):textures/png/thrust/HEAD_robe_hood.png'},\n",
       "  'BELT': {'leather': '(8, 4):textures/png/thrust/BELT_leather.png',\n",
       "   'rope': '(8, 4):textures/png/thrust/BELT_rope.png'},\n",
       "  'TORSO': {'chain_armor_jacket_purple': '(8, 4):textures/png/thrust/TORSO_chain_armor_jacket_purple.png',\n",
       "   'chain_armor_torso': '(8, 4):textures/png/thrust/TORSO_chain_armor_torso.png',\n",
       "   'leather_armor_bracers': '(8, 4):textures/png/thrust/TORSO_leather_armor_bracers.png',\n",
       "   'leather_armor_shirt_white': '(8, 4):textures/png/thrust/TORSO_leather_armor_shirt_white.png',\n",
       "   'leather_armor_shoulders': '(8, 4):textures/png/thrust/TORSO_leather_armor_shoulders.png',\n",
       "   'leather_armor_torso': '(8, 4):textures/png/thrust/TORSO_leather_armor_torso.png',\n",
       "   'plate_armor_arms_shoulders': '(8, 4):textures/png/thrust/TORSO_plate_armor_arms_shoulders.png',\n",
       "   'plate_armor_torso': '(8, 4):textures/png/thrust/TORSO_plate_armor_torso.png',\n",
       "   'robe_shirt_brown': '(8, 4):textures/png/thrust/TORSO_robe_shirt_brown.png'},\n",
       "  'LEGS': {'pants_greenish': '(8, 4):textures/png/thrust/LEGS_pants_greenish.png',\n",
       "   'plate_armor_pants': '(8, 4):textures/png/thrust/LEGS_plate_armor_pants.png',\n",
       "   'robe_skirt': '(8, 4):textures/png/thrust/LEGS_robe_skirt.png'},\n",
       "  'FEET': {'plate_armor_shoes': '(8, 4):textures/png/thrust/FEET_plate_armor_shoes.png',\n",
       "   'shoes_brown': '(8, 4):textures/png/thrust/FEET_shoes_brown.png'},\n",
       "  'BODY': {'human': '(8, 4):textures/png/thrust/BODY_human.png'},\n",
       "  'BEHIND': {'quiver': '(8, 4):textures/png/thrust/BEHIND_quiver.png'}},\n",
       " 'walkcycle': {'WEAPON': {'shield_cutout_body': '(9, 4):textures/png/walkcycle/WEAPON_shield_cutout_body.png',\n",
       "   'shield_cutout_chain_armor_helmet': '(9, 4):textures/png/walkcycle/WEAPON_shield_cutout_chain_armor_helmet.png'},\n",
       "  'HANDS': {'plate_armor_gloves': '(9, 4):textures/png/walkcycle/HANDS_plate_armor_gloves.png'},\n",
       "  'HEAD': {'chain_armor_hood': '(9, 4):textures/png/walkcycle/HEAD_chain_armor_hood.png',\n",
       "   'hair_blonde': '(9, 4):textures/png/walkcycle/HEAD_hair_blonde.png',\n",
       "   'leather_armor_hat': '(9, 4):textures/png/walkcycle/HEAD_leather_armor_hat.png',\n",
       "   'plate_armor_helmet': '(9, 4):textures/png/walkcycle/HEAD_plate_armor_helmet.png',\n",
       "   'robe_hood': '(9, 4):textures/png/walkcycle/HEAD_robe_hood.png'},\n",
       "  'BELT': {'leather': '(9, 4):textures/png/walkcycle/BELT_leather.png',\n",
       "   'rope': '(9, 4):textures/png/walkcycle/BELT_rope.png'},\n",
       "  'TORSO': {'chain_armor_jacket_purple': '(9, 4):textures/png/walkcycle/TORSO_chain_armor_jacket_purple.png',\n",
       "   'chain_armor_torso': '(9, 4):textures/png/walkcycle/TORSO_chain_armor_torso.png',\n",
       "   'leather_armor_bracers': '(9, 4):textures/png/walkcycle/TORSO_leather_armor_bracers.png',\n",
       "   'leather_armor_shirt_white': '(9, 4):textures/png/walkcycle/TORSO_leather_armor_shirt_white.png',\n",
       "   'leather_armor_shoulders': '(9, 4):textures/png/walkcycle/TORSO_leather_armor_shoulders.png',\n",
       "   'leather_armor_torso': '(9, 4):textures/png/walkcycle/TORSO_leather_armor_torso.png',\n",
       "   'plate_armor_arms_shoulders': '(9, 4):textures/png/walkcycle/TORSO_plate_armor_arms_shoulders.png',\n",
       "   'plate_armor_torso': '(9, 4):textures/png/walkcycle/TORSO_plate_armor_torso.png',\n",
       "   'robe_shirt_brown': '(9, 4):textures/png/walkcycle/TORSO_robe_shirt_brown.png'},\n",
       "  'LEGS': {'pants_greenish': '(9, 4):textures/png/walkcycle/LEGS_pants_greenish.png',\n",
       "   'plate_armor_pants': '(9, 4):textures/png/walkcycle/LEGS_plate_armor_pants.png',\n",
       "   'robe_skirt': '(9, 4):textures/png/walkcycle/LEGS_robe_skirt.png'},\n",
       "  'FEET': {'plate_armor_shoes': '(9, 4):textures/png/walkcycle/FEET_plate_armor_shoes.png',\n",
       "   'shoes_brown': '(9, 4):textures/png/walkcycle/FEET_shoes_brown.png'},\n",
       "  'BODY': {'skeleton': '(9, 4):textures/png/walkcycle/BODY_skeleton.png'},\n",
       "  'BEHIND': {'quiver': '(9, 4):textures/png/walkcycle/BEHIND_quiver.png'}}}"
      ]
     },
     "execution_count": 57,
     "metadata": {},
     "output_type": "execute_result"
    }
   ],
   "source": [
    "textures"
   ]
  },
  {
   "cell_type": "code",
   "execution_count": 45,
   "id": "5caa4326",
   "metadata": {},
   "outputs": [
    {
     "data": {
      "text/plain": [
       "(576, 256)"
      ]
     },
     "execution_count": 45,
     "metadata": {},
     "output_type": "execute_result"
    }
   ],
   "source": [
    "from PIL import Image\n",
    "filepath = 'textures/png/walkcycle/TORSO_chain_armor_jacket_purple.png'\n",
    "im = Image.open(filepath)\n",
    "im.size # (width,height) tuple"
   ]
  },
  {
   "cell_type": "code",
   "execution_count": 80,
   "id": "c2eeee72",
   "metadata": {},
   "outputs": [],
   "source": [
    "def make_filename(*items):\n",
    "    str = \"\"\n",
    "    for i in items:\n",
    "        str += f'{i}_'\n",
    "    return str"
   ]
  },
  {
   "cell_type": "code",
   "execution_count": 103,
   "id": "89753de1",
   "metadata": {},
   "outputs": [],
   "source": [
    "def display_frames(inner_func, **frames): #frames is dict of lists\n",
    "    if len(frames)==0:\n",
    "        return\n",
    "    def _df(offset,frames, *items):\n",
    "        if len(frames)>0:\n",
    "            temp_frames = frames.copy()\n",
    "            k = list(temp_frames)[0]\n",
    "            l = temp_frames.pop(k)\n",
    "            for e in l:\n",
    "                _items = list(items)\n",
    "                _items.append(e)\n",
    "                print(f'{\" \"*offset}{e}')\n",
    "                _df(offset+2,temp_frames,*_items)\n",
    "        else:\n",
    "            print(f'{\" \"*(offset+2)}{items}') #inner_func(*items)\n",
    "\n",
    "    _df(0,frames)\n",
    "    "
   ]
  },
  {
   "cell_type": "code",
   "execution_count": 104,
   "id": "d0f3fe41",
   "metadata": {
    "collapsed": true
   },
   "outputs": [
    {
     "name": "stdout",
     "output_type": "stream",
     "text": [
      "apple\n",
      "  artichoke\n",
      "    audi\n",
      "        ('apple', 'artichoke', 'audi')\n",
      "    bmw\n",
      "        ('apple', 'artichoke', 'bmw')\n",
      "    chevy\n",
      "        ('apple', 'artichoke', 'chevy')\n",
      "  brocolli\n",
      "    audi\n",
      "        ('apple', 'brocolli', 'audi')\n",
      "    bmw\n",
      "        ('apple', 'brocolli', 'bmw')\n",
      "    chevy\n",
      "        ('apple', 'brocolli', 'chevy')\n",
      "  cauliflower\n",
      "    audi\n",
      "        ('apple', 'cauliflower', 'audi')\n",
      "    bmw\n",
      "        ('apple', 'cauliflower', 'bmw')\n",
      "    chevy\n",
      "        ('apple', 'cauliflower', 'chevy')\n",
      "banana\n",
      "  artichoke\n",
      "    audi\n",
      "        ('banana', 'artichoke', 'audi')\n",
      "    bmw\n",
      "        ('banana', 'artichoke', 'bmw')\n",
      "    chevy\n",
      "        ('banana', 'artichoke', 'chevy')\n",
      "  brocolli\n",
      "    audi\n",
      "        ('banana', 'brocolli', 'audi')\n",
      "    bmw\n",
      "        ('banana', 'brocolli', 'bmw')\n",
      "    chevy\n",
      "        ('banana', 'brocolli', 'chevy')\n",
      "  cauliflower\n",
      "    audi\n",
      "        ('banana', 'cauliflower', 'audi')\n",
      "    bmw\n",
      "        ('banana', 'cauliflower', 'bmw')\n",
      "    chevy\n",
      "        ('banana', 'cauliflower', 'chevy')\n",
      "cherry\n",
      "  artichoke\n",
      "    audi\n",
      "        ('cherry', 'artichoke', 'audi')\n",
      "    bmw\n",
      "        ('cherry', 'artichoke', 'bmw')\n",
      "    chevy\n",
      "        ('cherry', 'artichoke', 'chevy')\n",
      "  brocolli\n",
      "    audi\n",
      "        ('cherry', 'brocolli', 'audi')\n",
      "    bmw\n",
      "        ('cherry', 'brocolli', 'bmw')\n",
      "    chevy\n",
      "        ('cherry', 'brocolli', 'chevy')\n",
      "  cauliflower\n",
      "    audi\n",
      "        ('cherry', 'cauliflower', 'audi')\n",
      "    bmw\n",
      "        ('cherry', 'cauliflower', 'bmw')\n",
      "    chevy\n",
      "        ('cherry', 'cauliflower', 'chevy')\n"
     ]
    }
   ],
   "source": [
    "display_frames(make_filename,\n",
    "               fruit=['apple','banana','cherry'], \n",
    "               veg = ['artichoke','brocolli','cauliflower'], \n",
    "               car = ['audi','bmw','chevy'])"
   ]
  },
  {
   "cell_type": "code",
   "execution_count": 7,
   "id": "c63c1df5",
   "metadata": {},
   "outputs": [
    {
     "data": {
      "text/plain": [
       "9"
      ]
     },
     "execution_count": 7,
     "metadata": {},
     "output_type": "execute_result"
    }
   ],
   "source": [
    "len(torso)"
   ]
  },
  {
   "cell_type": "code",
   "execution_count": 15,
   "id": "49dbb037",
   "metadata": {},
   "outputs": [
    {
     "name": "stdout",
     "output_type": "stream",
     "text": [
      "hello 1\n",
      "goodbye 2\n"
     ]
    },
    {
     "data": {
      "text/plain": [
       "2"
      ]
     },
     "execution_count": 15,
     "metadata": {},
     "output_type": "execute_result"
    }
   ],
   "source": [
    "def foo(**kwargs):\n",
    "    {print(k,v) for k,v in kwargs.items()}\n",
    "    return len(kwargs)\n",
    "\n",
    "foo(hello=1, goodbye=2)"
   ]
  },
  {
   "cell_type": "code",
   "execution_count": 20,
   "id": "2224a8d3",
   "metadata": {},
   "outputs": [
    {
     "data": {
      "text/plain": [
       "1"
      ]
     },
     "execution_count": 20,
     "metadata": {},
     "output_type": "execute_result"
    }
   ],
   "source": [
    "fee = [1,2,3]\n",
    "fee.pop(0)"
   ]
  },
  {
   "cell_type": "code",
   "execution_count": 22,
   "id": "1ac3507c",
   "metadata": {},
   "outputs": [
    {
     "data": {
      "text/plain": [
       "0"
      ]
     },
     "execution_count": 22,
     "metadata": {},
     "output_type": "execute_result"
    }
   ],
   "source": [
    "len([])"
   ]
  },
  {
   "cell_type": "code",
   "execution_count": 75,
   "id": "be729066",
   "metadata": {},
   "outputs": [
    {
     "data": {
      "text/plain": [
       "[1, 2, 3, 4]"
      ]
     },
     "execution_count": 75,
     "metadata": {},
     "output_type": "execute_result"
    }
   ],
   "source": [
    "def fum(*i):\n",
    "    i = list(i)\n",
    "    i.append(4)\n",
    "    return i\n",
    "\n",
    "j = fum(1,2,3)\n",
    "j"
   ]
  },
  {
   "cell_type": "code",
   "execution_count": 33,
   "id": "65597671",
   "metadata": {},
   "outputs": [
    {
     "name": "stdout",
     "output_type": "stream",
     "text": [
      "a 1\n"
     ]
    }
   ],
   "source": [
    "frames = {'a':1,'b':2,'c':3} \n",
    "k = list(frames)[0]\n",
    "v = frames.pop(k)\n",
    "print(k,v)"
   ]
  },
  {
   "cell_type": "code",
   "execution_count": 48,
   "id": "7589be8a",
   "metadata": {},
   "outputs": [
    {
     "data": {
      "text/plain": [
       "'foo'"
      ]
     },
     "execution_count": 48,
     "metadata": {},
     "output_type": "execute_result"
    }
   ],
   "source": [
    "str = \"\"\n",
    "str += \"foo\"\n",
    "str"
   ]
  },
  {
   "cell_type": "code",
   "execution_count": 46,
   "id": "65b7b592",
   "metadata": {},
   "outputs": [
    {
     "data": {
      "text/plain": [
       "[1, 2, 3, 4]"
      ]
     },
     "execution_count": 46,
     "metadata": {},
     "output_type": "execute_result"
    }
   ],
   "source": [
    "a = [1,2,3]\n",
    "a.append(4)\n",
    "a"
   ]
  },
  {
   "cell_type": "code",
   "execution_count": 95,
   "id": "9da9f84d",
   "metadata": {},
   "outputs": [
    {
     "data": {
      "text/plain": [
       "(1, 2, 3, 1, 2, 3, 1, 2, 3, 1, 2, 3)"
      ]
     },
     "execution_count": 95,
     "metadata": {},
     "output_type": "execute_result"
    }
   ],
   "source": [
    "def foo(*args):\n",
    "    retval = 1\n",
    "    for a in args:\n",
    "        retval *= a\n",
    "    return retval\n",
    "\n",
    "foo()"
   ]
  }
 ],
 "metadata": {
  "kernelspec": {
   "display_name": "lc2",
   "language": "python",
   "name": "lc2"
  },
  "language_info": {
   "codemirror_mode": {
    "name": "ipython",
    "version": 3
   },
   "file_extension": ".py",
   "mimetype": "text/x-python",
   "name": "python",
   "nbconvert_exporter": "python",
   "pygments_lexer": "ipython3",
   "version": "3.11.6"
  }
 },
 "nbformat": 4,
 "nbformat_minor": 5
}

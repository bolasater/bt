{
 "cells": [
  {
   "cell_type": "code",
   "execution_count": 1,
   "id": "a44f7dc7",
   "metadata": {},
   "outputs": [],
   "source": [
    "import random\n",
    "import arcade\n",
    "import os\n",
    "from pathlib import Path\n",
    "from enum import Enum\n",
    "from PIL import Image"
   ]
  },
  {
   "cell_type": "code",
   "execution_count": 2,
   "id": "c862126d",
   "metadata": {},
   "outputs": [],
   "source": [
    "#configuration\n",
    "Sprite_part = Enum('Sprite_part',['BEHIND', 'BODY', 'FEET', 'LEGS', 'TORSO', 'BELT', 'HEAD', 'HANDS', 'SHIELD', 'WEAPON'])\n",
    "Action = Enum('Action',['shoot','hurt','slash','spellcast','thrust','walk']) #slash_reverse.  not supported\n",
    "\n",
    "#what action use the weapon art?  Is the art oversized?\n",
    "weapon_actions ={\n",
    "    'dagger' :{Action.walk:0, Action.hurt:0,Action.slash:0, Action.thrust:0} ,\n",
    "    'long_sword':{Action.walk:0, Action.hurt:0,Action.slash:1, Action.thrust:1},\n",
    "    'spear':{Action.walk:0, Action.thrust:0},\n",
    "    'crystal_staff':{Action.walk:0, Action.hurt:0, Action.thrust:1},\n",
    "    'bow':{Action.walk:0, Action.hurt:0, Action.shoot:0},\n",
    "}\n",
    "sprite_part_options = {\n",
    "    Sprite_part.BEHIND:['quiver'],\n",
    "    Sprite_part.BODY:['human', 'skeleton','goblin','boar','lizard','minotaur','troll','wolf'],\n",
    "    Sprite_part.FEET:['plate_armor_shoes', 'shoes_brown'],\n",
    "    Sprite_part.LEGS:['pants_greenish', 'plate_armor_pants', 'robe_skirt'],\n",
    "    Sprite_part.TORSO:['chain_armor_jacket_purple', 'chain_armor_torso', 'leather_armor_bracers', 'leather_armor_shirt_white', 'leather_armor_shoulders', 'leather_armor_torso', 'plate_armor_arms_shoulders', 'plate_armor_torso', 'robe_shirt_brown'],\n",
    "    Sprite_part.BELT:['leather', 'rope'],\n",
    "    Sprite_part.HEAD:['chain_armor_helmet', 'chain_armor_hood', 'hair_blonde', 'leather_armor_hat', 'plate_armor_helmet', 'robe_hood'],\n",
    "    Sprite_part.HANDS:['plate_armor_gloves'],\n",
    "    Sprite_part.SHIELD:['cutout_body','cutout_chain_armor_helmet'],\n",
    "    Sprite_part.WEAPON:['dagger', 'long_sword','spear', 'crystal_staff', 'crossbow','bow', 'arrow']}\n",
    "\n",
    "std_sprite_wd, std_sprite_ht = 64,64\n",
    "sprite_sheet_dims = { #columns, rows for normal\n",
    "    Action.shoot:(13,4),\n",
    "    Action.hurt:(6,1),\n",
    "    Action.slash:(6,4),\n",
    "    Action.spellcast:(7,4),\n",
    "    Action.thrust:(8,4),\n",
    "    Action.walk:(9,4)\n",
    "}\n",
    "ov_sprite_wd = 192\n",
    "root_path = Path('.')/ 'textures' / 'png'\n",
    "raw_root_path = root_path / '01_raw'\n",
    "src_root_path = root_path / '02_source'\n",
    "dest_root_path = root_path / '03_final'"
   ]
  },
  {
   "cell_type": "code",
   "execution_count": 5,
   "id": "64f9f0f0",
   "metadata": {},
   "outputs": [],
   "source": [
    "sprite_name = \"human_light_armor_long_sword\"\n",
    "opts = {\n",
    "    Sprite_part.BEHIND:'quiver',\n",
    "    Sprite_part.BODY:'human',\n",
    "    Sprite_part.FEET:'shoes_brown',\n",
    "    Sprite_part.LEGS:'pants_greenish',\n",
    "    Sprite_part.TORSO:'chain_armor_jacket_purple',\n",
    "    Sprite_part.BELT:'leather',\n",
    "    Sprite_part.HEAD:'hair_blonde',\n",
    "    Sprite_part.HANDS:'plate_armor_gloves',\n",
    "    Sprite_part.SHIELD: 'cutout_body'\n",
    "}\n",
    "weapon_opts = {\n",
    "    Action.shoot: 'bow',\n",
    "    Action.slash: 'long_sword',\n",
    "    Action.thrust: 'long_sword'\n",
    "}"
   ]
  },
  {
   "cell_type": "code",
   "execution_count": 114,
   "id": "1e8151d3",
   "metadata": {},
   "outputs": [],
   "source": [
    "sprite_name = \"human_unarmored_bow\"\n",
    "opts = {\n",
    "    Sprite_part.BEHIND:'quiver',\n",
    "    Sprite_part.BODY:'human',\n",
    "    Sprite_part.FEET:'shoes_brown',\n",
    "    Sprite_part.LEGS:'pants_greenish',\n",
    "    Sprite_part.TORSO:'leather_armor_shirt_white',\n",
    "    Sprite_part.BELT:'leather',\n",
    "    Sprite_part.HEAD:'hair_blonde',\n",
    "    #Sprite_part.HANDS:'plate_armor_gloves',\n",
    "    #Sprite_part.SHIELD: 'cutout_body'\n",
    "}\n",
    "weapon_opts = {\n",
    "    Action.shoot: 'bow',\n",
    "    Action.slash: 'long_sword',\n",
    "    Action.thrust: 'dagger'\n",
    "}"
   ]
  },
  {
   "cell_type": "code",
   "execution_count": 24,
   "id": "37791205",
   "metadata": {},
   "outputs": [],
   "source": [
    "sprite_name = \"wolf_light_armor_long_sword\"\n",
    "opts = {\n",
    "    Sprite_part.BEHIND:'quiver',\n",
    "    Sprite_part.BODY:'wolf',\n",
    "    Sprite_part.FEET:'shoes_brown',\n",
    "    Sprite_part.LEGS:'pants_greenish',\n",
    "    Sprite_part.TORSO:'leather_armor_bracers',\n",
    "    Sprite_part.BELT:'leather',\n",
    "    #Sprite_part.HEAD:'hair_blonde',\n",
    "    Sprite_part.HANDS:'plate_armor_gloves',\n",
    "    #Sprite_part.SHIELD: 'cutout_body'\n",
    "}\n",
    "weapon_opts = {\n",
    "    Action.shoot: 'bow',\n",
    "    Action.slash: 'long_sword',\n",
    "    Action.thrust: 'long_sword'\n",
    "}"
   ]
  },
  {
   "cell_type": "code",
   "execution_count": 112,
   "id": "60c4d6c4",
   "metadata": {},
   "outputs": [],
   "source": [
    "sprite_name = \"skeleton_light_armor_long_sword\"\n",
    "opts = {\n",
    "    Sprite_part.BEHIND:'quiver',\n",
    "    Sprite_part.BODY:'skeleton',\n",
    "    #Sprite_part.FEET:'shoes_brown',\n",
    "    Sprite_part.LEGS:'pants_greenish',\n",
    "    Sprite_part.TORSO:'leather_armor_shoulders',\n",
    "    Sprite_part.BELT:'leather',\n",
    "    #Sprite_part.HEAD:'hair_blonde',\n",
    "    #Sprite_part.HANDS:'plate_armor_gloves',\n",
    "    #Sprite_part.SHIELD: 'cutout_body'\n",
    "}\n",
    "weapon_opts = {\n",
    "    Action.shoot: 'bow',\n",
    "    Action.slash: 'long_sword',\n",
    "    Action.thrust: 'long_sword'\n",
    "}"
   ]
  },
  {
   "cell_type": "code",
   "execution_count": 12,
   "id": "a2c74316",
   "metadata": {},
   "outputs": [],
   "source": [
    "sprite_name = \"goblin_heavy_armor_spear_sword\"\n",
    "opts = {\n",
    "    Sprite_part.BEHIND:'quiver',\n",
    "    Sprite_part.BODY:'goblin',\n",
    "    Sprite_part.FEET:'plate_armor_shoes',\n",
    "    Sprite_part.LEGS:'plate_armor_pants',\n",
    "    Sprite_part.TORSO:'chain_armor_torso',\n",
    "    Sprite_part.BELT:'leather',\n",
    "    #Sprite_part.HEAD:'hair_blonde',\n",
    "    Sprite_part.HANDS:'plate_armor_gloves',\n",
    "    Sprite_part.SHIELD: 'cutout_chain_armor_helmet'\n",
    "}\n",
    "weapon_opts = {\n",
    "    Action.shoot: 'bow',\n",
    "    Action.slash: 'long_sword',\n",
    "    Action.thrust: 'spear'\n",
    "}"
   ]
  },
  {
   "cell_type": "code",
   "execution_count": 110,
   "id": "322fc420",
   "metadata": {},
   "outputs": [],
   "source": [
    "sprite_name = \"human_heavy_armor_spear_sword\"\n",
    "opts = {\n",
    "    Sprite_part.BEHIND:'quiver',\n",
    "    Sprite_part.BODY:'human',\n",
    "    Sprite_part.FEET:'plate_armor_shoes',\n",
    "    Sprite_part.LEGS:'plate_armor_pants',\n",
    "    Sprite_part.TORSO:'chain_armor_torso',\n",
    "    Sprite_part.BELT:'leather',\n",
    "    Sprite_part.HEAD:'plate_armor_helmet',\n",
    "    Sprite_part.HANDS:'plate_armor_gloves',\n",
    "    Sprite_part.SHIELD: 'cutout_chain_armor_helmet'\n",
    "}\n",
    "weapon_opts = {\n",
    "    Action.shoot: 'bow',\n",
    "    Action.slash: 'long_sword',\n",
    "    Action.thrust: 'spear'\n",
    "}"
   ]
  },
  {
   "cell_type": "code",
   "execution_count": 22,
   "id": "a92fc5ae",
   "metadata": {},
   "outputs": [],
   "source": [
    "sprite_name = \"troll_heavy_armor_spear\"\n",
    "opts = {\n",
    "    Sprite_part.BEHIND:'quiver',\n",
    "    Sprite_part.BODY:'troll',\n",
    "    Sprite_part.FEET:'plate_armor_shoes',\n",
    "    Sprite_part.LEGS:'plate_armor_pants',\n",
    "    Sprite_part.TORSO:'plate_armor_torso',\n",
    "    Sprite_part.BELT:'leather',\n",
    "    #Sprite_part.HEAD:'hair_blonde',\n",
    "    Sprite_part.HANDS:'plate_armor_gloves',\n",
    "    Sprite_part.SHIELD: 'cutout_chain_armor_helmet'\n",
    "}\n",
    "weapon_opts = {\n",
    "    Action.slash: 'spear',\n",
    "    Action.walk: 'spear',\n",
    "    Action.thrust: 'spear'\n",
    "}"
   ]
  },
  {
   "cell_type": "code",
   "execution_count": 28,
   "id": "47599ae8",
   "metadata": {},
   "outputs": [],
   "source": [
    "sprite_name = \"lizard_spellcaster\"\n",
    "opts = {\n",
    "    #Sprite_part.BEHIND:'quiver',\n",
    "    Sprite_part.BODY:'lizard',\n",
    "    #Sprite_part.FEET:'plate_armor_shoes',\n",
    "    Sprite_part.LEGS:'robe_skirt',\n",
    "    Sprite_part.TORSO:'robe_shirt_brown',\n",
    "    Sprite_part.BELT:'leather',\n",
    "    Sprite_part.HEAD:'robe_hood',\n",
    "    #Sprite_part.HANDS:'plate_armor_gloves',\n",
    "    #Sprite_part.SHIELD: 'cutout_chain_armor_helmet'\n",
    "}\n",
    "weapon_opts = {\n",
    "    Action.slash: 'crystal_staff',\n",
    "    Action.walk: 'crystal_staff',\n",
    "    Action.thrust: 'crystal_staff'\n",
    "}"
   ]
  },
  {
   "cell_type": "code",
   "execution_count": 107,
   "id": "c51c6644",
   "metadata": {},
   "outputs": [],
   "source": [
    "sprite_name = \"human_spellcaster\"\n",
    "opts = {\n",
    "    #Sprite_part.BEHIND:'quiver',\n",
    "    Sprite_part.BODY:'human',\n",
    "    #Sprite_part.FEET:'plate_armor_shoes',\n",
    "    Sprite_part.LEGS:'robe_skirt',\n",
    "    Sprite_part.TORSO:'robe_shirt_brown',\n",
    "    Sprite_part.BELT:'leather',\n",
    "    #Sprite_part.HEAD:'robe_hood',\n",
    "    #Sprite_part.HANDS:'plate_armor_gloves',\n",
    "    #Sprite_part.SHIELD: 'cutout_chain_armor_helmet'\n",
    "}\n",
    "weapon_opts = {\n",
    "    Action.slash: 'crystal_staff',\n",
    "    Action.walk: 'crystal_staff',\n",
    "    Action.thrust: 'crystal_staff'\n",
    "}"
   ]
  },
  {
   "cell_type": "code",
   "execution_count": 115,
   "id": "d67c04ea",
   "metadata": {},
   "outputs": [
    {
     "name": "stdout",
     "output_type": "stream",
     "text": [
      "Weapon textures/png/02_source/thrust/WEAPON_dagger.png should exist, but doesn't!\n"
     ]
    },
    {
     "data": {
      "text/plain": [
       "-1"
      ]
     },
     "execution_count": 115,
     "metadata": {},
     "output_type": "execute_result"
    }
   ],
   "source": [
    "build_sprite_sheets(sprite_name, opts, weapon_opts)"
   ]
  },
  {
   "cell_type": "code",
   "execution_count": 20,
   "id": "323e3a44",
   "metadata": {},
   "outputs": [],
   "source": [
    "#build animations for one sprite config\n",
    "\n",
    "def build_sprite_sheets(sprite_name,options, weapon_options):\n",
    "    for a in Action :\n",
    "        src_path = src_root_path / a.name \n",
    "        dest_path = dest_root_path / a.name\n",
    "\n",
    "        img = None\n",
    "        for s,o in options.items():\n",
    "            f = src_path / f'{s.name}_{o}.png'\n",
    "            if f.exists():\n",
    "                if img:\n",
    "                    img = Image.alpha_composite(img,Image.open(f.as_posix()))\n",
    "                else:\n",
    "                    img = Image.open(f.as_posix())\n",
    "            else: #f doesn't exist\n",
    "                print(f'  {f.as_posix()} is not here.')\n",
    "\n",
    "        img.save(dest_path / f'{sprite_name}.png') \n",
    "        \n",
    "    for a,w in weapon_options.items():\n",
    "        base_path = dest_root_path / a.name / f'{sprite_name}.png'\n",
    "        dest_path = dest_root_path / a.name / f'{sprite_name}.png'\n",
    "        if not base_path.exists():\n",
    "            print(f'{base_path.as_posix()} should exist, but doesn\\'t!')\n",
    "            return -1\n",
    "        base_img = Image.open(base_path.as_posix())\n",
    "        allowed_actions = weapon_actions.get(w)\n",
    "        if allowed_actions:\n",
    "            ov = allowed_actions.get(a)\n",
    "            if ov is not None:\n",
    "                w_path = src_root_path / a.name / f'WEAPON_{w}.png'\n",
    "                if w_path.exists():\n",
    "                    w_img = Image.open(w_path.as_posix())\n",
    "                    if (ov == 0):\n",
    "                        if (base_img.size != w_img.size):\n",
    "                            print(f'{base_path.as_posix()}:{base_img.size} not same as {w_path.as_posix()}:{w_img.size}!')\n",
    "                            return -1\n",
    "                        else:\n",
    "                            base_img = Image.alpha_composite(base_img,w_img)\n",
    "                            base_img.save(dest_path)\n",
    "                    else: #weapon art is oversized\n",
    "                        new_img = combine_std_with_oversize(base_img,w_img,sprite_sheet_dims[a])\n",
    "                        new_img.save(dest_path) \n",
    "                else:\n",
    "                  print(f'Weapon {w_path.as_posix()} should exist, but doesn\\'t!')\n",
    "                  return -1 \n",
    "            else:\n",
    "                #there is no weapon art\n",
    "                pass\n",
    "#                 print(f'Bad data in allowed actions! {a},{ov}..{w}:{allowed_actions} ')\n",
    "#                 return -1\n",
    "                    \n",
    "        else:\n",
    "            print(f'No allowed actions for {w}')\n",
    "            return -1\n",
    "        \n",
    "        \n",
    "#old code        \n",
    "# if (a.name == 'bow') and (s.name == 'WEAPON'):\n",
    "#     print(\"XXX\")\n",
    "#     f = src_path / f'{s.name}_bow.png'\n",
    "# else:\n",
    "#     f = src_path / f'{s.name}_{o}.png'        \n",
    "#print(\"=====================\")\n",
    "#show filenames\n",
    "\n",
    "#save a subset of files\n",
    "# for f_i in fn_img_tuples[Sprite_part.WEAPON][:100:10]:\n",
    "#     f_i[1].save((root / f'FULL_{f_i[0]}.png'))\n",
    "# check for existing files\n",
    "#         if (dest_path / f'{sprite_name}.png').exists(): # see if this has been run before\n",
    "#             return\n"
   ]
  },
  {
   "cell_type": "code",
   "execution_count": 8,
   "id": "cdef2537",
   "metadata": {},
   "outputs": [],
   "source": [
    "def combine_std_with_oversize(std_img,ov_img, dims):\n",
    "    new_img = ov_img.copy()\n",
    "    #dims = (6,4) #seq lth, directions\n",
    "    std_sprite_wd, std_sprite_ht = 64,64\n",
    "    ov_sprite_wd, ov_sprite_ht = 192,192\n",
    "    std_left, std_lower = 0,0 #left, upper, right, lower\n",
    "    ov_left, ov_lower = 0,0\n",
    "    for d in range(dims[1]): #direction of action\n",
    "        for seq in range(dims[0]): #sequence of action\n",
    "            std_left = seq*std_sprite_wd\n",
    "            std_upper = d*std_sprite_ht\n",
    "            std_right = (seq+1)*std_sprite_wd\n",
    "            std_lower = (d+1)*std_sprite_ht\n",
    "            std_box = (std_left,std_upper,std_right,std_lower)\n",
    "            ov_left = seq*ov_sprite_wd\n",
    "            ov_upper = d*ov_sprite_ht\n",
    "\n",
    "            #print(seq, d, ov_left,ov_upper, std_box)\n",
    "            new_img.alpha_composite(std_img, dest=(ov_left+64, ov_upper+64), source= std_box)\n",
    "            if d!=0:\n",
    "                ov_box = (ov_left,ov_upper,ov_left+ov_sprite_wd, ov_upper+ov_sprite_ht)\n",
    "                new_img.alpha_composite(ov_img, dest=(ov_left, ov_upper), source= ov_box)\n",
    "    return new_img"
   ]
  },
  {
   "cell_type": "code",
   "execution_count": 90,
   "id": "5c571591",
   "metadata": {},
   "outputs": [],
   "source": [
    "#test combo of std and ov\n",
    "def test_combo(std,ov):\n",
    "    root_path = Path('.')/ 'textures' / 'png' / '03_final' / 'slash'\n",
    "    src_path = root_path / std\n",
    "    dest_path = root_path / ov\n",
    "    std_img = Image.open(src_path.as_posix())\n",
    "    ov_img = Image.open(dest_path.as_posix())\n",
    "    new_img = ov_img.copy()\n",
    "    dims = (6,4) #seq lth, directions\n",
    "    std_sprite_wd, std_sprite_ht = 64,64\n",
    "    ov_sprite_wd, ov_sprite_ht = 192,192\n",
    "    std_left, std_lower = 0,0 #left, upper, right, lower\n",
    "    ov_left, ov_lower = 0,0\n",
    "    for d in range(dims[1]): #direction of action\n",
    "        for seq in range(dims[0]): #sequence of action\n",
    "            std_left = seq*std_sprite_wd\n",
    "            std_upper = d*std_sprite_ht\n",
    "            std_right = (seq+1)*std_sprite_wd\n",
    "            std_lower = (d+1)*std_sprite_ht\n",
    "            std_box = (std_left,std_upper,std_right,std_lower)\n",
    "            ov_left = seq*ov_sprite_wd\n",
    "            ov_upper = d*ov_sprite_ht\n",
    "\n",
    "            print(seq, d, ov_left,ov_upper, std_box)\n",
    "            new_img.alpha_composite(std_img, dest=(ov_left+64, ov_upper+64), source= std_box)\n",
    "            if d!=0:\n",
    "                ov_box = (ov_left,ov_upper,ov_left+ov_sprite_wd, ov_upper+ov_sprite_ht)\n",
    "                new_img.alpha_composite(ov_img, dest=(ov_left, ov_upper), source= ov_box)\n",
    "    new_img.save((root_path / 'foo.png').as_posix())      "
   ]
  },
  {
   "cell_type": "code",
   "execution_count": null,
   "id": "acab60a8",
   "metadata": {},
   "outputs": [],
   "source": [
    "#Crop orders.  What are the actions in the art file?  Which ones are oversized? Which are empty? (action,oversized?,empty?)\n",
    "long_sword_crop_order = [\n",
    "    (Action.spellcast,0,0),\n",
    "    (Action.thrust,0,0), \n",
    "    (Action.walk,0,1),\n",
    "    (Action.slash,0,0), \n",
    "    (Action.shoot,0,0), \n",
    "    (Action.hurt,0,1),\n",
    "    (Action.slash,1,1), \n",
    "    (Action.slash_reverse,1,1),\n",
    "    (Action.thrust,1,1)]\n",
    "\n",
    "crystal_staff_crop_order = [\n",
    "    (Action.spellcast,0,0),\n",
    "    (Action.thrust,0,0), \n",
    "    (Action.walk,0,1,0),\n",
    "    (Action.slash,0,0), \n",
    "    (Action.shoot,0,0), \n",
    "    (Action.hurt,0,1),\n",
    "    (Action.thrust,1,1)]"
   ]
  },
  {
   "cell_type": "code",
   "execution_count": 91,
   "id": "d464aeba",
   "metadata": {
    "collapsed": true
   },
   "outputs": [
    {
     "name": "stdout",
     "output_type": "stream",
     "text": [
      "0 0 0 0 (0, 0, 64, 64)\n",
      "1 0 192 0 (64, 0, 128, 64)\n",
      "2 0 384 0 (128, 0, 192, 64)\n",
      "3 0 576 0 (192, 0, 256, 64)\n",
      "4 0 768 0 (256, 0, 320, 64)\n",
      "5 0 960 0 (320, 0, 384, 64)\n",
      "0 1 0 192 (0, 64, 64, 128)\n",
      "1 1 192 192 (64, 64, 128, 128)\n",
      "2 1 384 192 (128, 64, 192, 128)\n",
      "3 1 576 192 (192, 64, 256, 128)\n",
      "4 1 768 192 (256, 64, 320, 128)\n",
      "5 1 960 192 (320, 64, 384, 128)\n",
      "0 2 0 384 (0, 128, 64, 192)\n",
      "1 2 192 384 (64, 128, 128, 192)\n",
      "2 2 384 384 (128, 128, 192, 192)\n",
      "3 2 576 384 (192, 128, 256, 192)\n",
      "4 2 768 384 (256, 128, 320, 192)\n",
      "5 2 960 384 (320, 128, 384, 192)\n",
      "0 3 0 576 (0, 192, 64, 256)\n",
      "1 3 192 576 (64, 192, 128, 256)\n",
      "2 3 384 576 (128, 192, 192, 256)\n",
      "3 3 576 576 (192, 192, 256, 256)\n",
      "4 3 768 576 (256, 192, 320, 256)\n",
      "5 3 960 576 (320, 192, 384, 256)\n"
     ]
    }
   ],
   "source": [
    "test_combo('human_light_armor_dagger.png','WEAPON_long_sword.png')"
   ]
  },
  {
   "cell_type": "code",
   "execution_count": 6,
   "id": "7a278330",
   "metadata": {},
   "outputs": [],
   "source": [
    "sprite_name = \"human_light_armor_spear\"\n",
    "opts = {\n",
    "    #Sprite_part.BEHIND:None,\n",
    "    Sprite_part.BODY:'human',\n",
    "    Sprite_part.FEET:'shoes_brown',\n",
    "    Sprite_part.LEGS:'pants_greenish',\n",
    "    Sprite_part.TORSO:'chain_armor_jacket_purple',\n",
    "    Sprite_part.BELT:'leather',\n",
    "    Sprite_part.HEAD:'hair_blonde',\n",
    "    Sprite_part.HANDS:'plate_armor_gloves',\n",
    "    Sprite_part.WEAPON:'spear'}\n",
    "build_sprite_sheets(sprite_name, opts)"
   ]
  },
  {
   "cell_type": "code",
   "execution_count": 7,
   "id": "71c37dc4",
   "metadata": {
    "collapsed": true
   },
   "outputs": [
    {
     "ename": "NameError",
     "evalue": "name 'behind' is not defined",
     "output_type": "error",
     "traceback": [
      "\u001b[0;31m---------------------------------------------------------------------------\u001b[0m",
      "\u001b[0;31mNameError\u001b[0m                                 Traceback (most recent call last)",
      "Cell \u001b[0;32mIn[7], line 5\u001b[0m\n\u001b[1;32m      3\u001b[0m foo\u001b[38;5;241m.\u001b[39mreverse()\n\u001b[1;32m      4\u001b[0m \u001b[38;5;28;01mfor\u001b[39;00m f \u001b[38;5;129;01min\u001b[39;00m foo:\n\u001b[0;32m----> 5\u001b[0m     \u001b[38;5;28mprint\u001b[39m(\u001b[38;5;124mf\u001b[39m\u001b[38;5;124m\"\u001b[39m\u001b[38;5;124mSprite_part.\u001b[39m\u001b[38;5;132;01m{\u001b[39;00mf\u001b[38;5;132;01m}\u001b[39;00m\u001b[38;5;124m:\u001b[39m\u001b[38;5;132;01m{\u001b[39;00m\u001b[38;5;28;43meval\u001b[39;49m\u001b[43m(\u001b[49m\u001b[38;5;28;43meval\u001b[39;49m\u001b[43m(\u001b[49m\u001b[38;5;124;43mf\u001b[39;49m\u001b[38;5;124;43m'\u001b[39;49m\u001b[38;5;124;43mSprite_part.\u001b[39;49m\u001b[38;5;132;43;01m{\u001b[39;49;00m\u001b[43mf\u001b[49m\u001b[38;5;132;43;01m}\u001b[39;49;00m\u001b[38;5;124;43m'\u001b[39;49m\u001b[43m)\u001b[49m\u001b[38;5;241;43m.\u001b[39;49m\u001b[43mname\u001b[49m\u001b[38;5;241;43m.\u001b[39;49m\u001b[43mlower\u001b[49m\u001b[43m(\u001b[49m\u001b[43m)\u001b[49m\u001b[43m)\u001b[49m\u001b[38;5;132;01m}\u001b[39;00m\u001b[38;5;124m,\u001b[39m\u001b[38;5;124m\"\u001b[39m)\n",
      "File \u001b[0;32m<string>:1\u001b[0m\n",
      "\u001b[0;31mNameError\u001b[0m: name 'behind' is not defined"
     ]
    }
   ],
   "source": [
    "# build code for Sprite_part_options dict\n",
    "foo = ['WEAPON','HANDS','HEAD','BELT','TORSO','LEGS','FEET','BODY','BEHIND']\n",
    "foo.reverse()\n",
    "for f in foo:\n",
    "    print(f\"Sprite_part.{f}:{eval(eval(f'Sprite_part.{f}').name.lower())},\")"
   ]
  },
  {
   "cell_type": "code",
   "execution_count": null,
   "id": "3cc3b4f0",
   "metadata": {},
   "outputs": [],
   "source": [
    "def load_mob_textures(cls): #builds nested dicts of textures\n",
    "    root = Path('.')/ 'textures' / 'png'\n",
    "    for a in cls.Action:\n",
    "        sublocns = [[cls.sprite_wd*i,cls.sprite_ht*j,cls.sprite_wd,cls.sprite_ht] \n",
    "                    for i in range(cls.sprite_sheet_dims[a][0]) \n",
    "                    for j in range(cls.sprite_sheet_dims[a][1])]\n",
    "        for s in cls.Sprite_part:\n",
    "            parts = eval(f'cls.{s.name.lower()}')\n",
    "            for p in parts:\n",
    "                f = (f'{s.name}_{p}.png')  \n",
    "                q = root / a.name / f\n",
    "                if q.exists():\n",
    "                    fn = q.as_posix()\n",
    "                    #print(a,b,p,fn)\n",
    "                    #print(sublocns)\n",
    "                    cls.textures.setdefault(a,{}).setdefault(s,{}).setdefault(p,arcade.load_textures(fn,sublocns))\n"
   ]
  },
  {
   "cell_type": "code",
   "execution_count": null,
   "id": "9ffe8d53",
   "metadata": {},
   "outputs": [],
   "source": [
    "foo = ['a','b','c']\n",
    "fee = foo.pop()\n",
    "foo.append('d')\n",
    "foo"
   ]
  },
  {
   "cell_type": "code",
   "execution_count": null,
   "id": "5585411f",
   "metadata": {},
   "outputs": [],
   "source": [
    "\"Hello\"+\"Goodbye\""
   ]
  },
  {
   "cell_type": "code",
   "execution_count": null,
   "id": "2946bf68",
   "metadata": {},
   "outputs": [],
   "source": [
    "aaa = ['chain_armor_helmet', 'chain_armor_hood', 'hair_blonde', 'leather_armor_hat', 'plate_armor_helmet', 'robe_hood']\n",
    "#bbb = [a.split('_') for a in aaa]\n",
    "[''.join([c[:2] for c in b])  for b in [a.split('_') for a in aaa]]"
   ]
  },
  {
   "cell_type": "code",
   "execution_count": null,
   "id": "acfbfc2f",
   "metadata": {},
   "outputs": [],
   "source": [
    "foo = {}\n",
    "foo.setdefault('a',[]).append('aa1')\n",
    "foo.setdefault('b',[]).append('bb1')\n",
    "foo.setdefault('a',[]).append('aa2')\n",
    "[(k,len(v)) for k,v in foo.items()]"
   ]
  },
  {
   "cell_type": "code",
   "execution_count": 33,
   "id": "481ad859",
   "metadata": {},
   "outputs": [
    {
     "data": {
      "text/plain": [
       "3"
      ]
     },
     "execution_count": 33,
     "metadata": {},
     "output_type": "execute_result"
    }
   ],
   "source": [
    "a,b = 1,3\n",
    "b"
   ]
  },
  {
   "cell_type": "code",
   "execution_count": 93,
   "id": "04fa8c8d",
   "metadata": {
    "scrolled": true
   },
   "outputs": [
    {
     "name": "stdout",
     "output_type": "stream",
     "text": [
      "a 1\n",
      "b 2\n"
     ]
    }
   ],
   "source": [
    "for a,b in {'a':1, 'b':2}.items():\n",
    "    print(a,b)"
   ]
  },
  {
   "cell_type": "code",
   "execution_count": 33,
   "id": "da857d44",
   "metadata": {},
   "outputs": [
    {
     "data": {
      "text/plain": [
       "dict_items([(<Action.walk: 6>, 0), (<Action.hurt: 2>, 1), (<Action.shoot: 1>, 2)])"
      ]
     },
     "execution_count": 33,
     "metadata": {},
     "output_type": "execute_result"
    }
   ],
   "source": [
    "{Actions.walk:0, Actions.hurt:1, Actions.shoot:2}.items()"
   ]
  },
  {
   "cell_type": "code",
   "execution_count": 83,
   "id": "93f932bb",
   "metadata": {},
   "outputs": [
    {
     "name": "stdout",
     "output_type": "stream",
     "text": [
      "1 2\n"
     ]
    }
   ],
   "source": [
    "a,b = (1,2)\n",
    "print(a,b)"
   ]
  },
  {
   "cell_type": "code",
   "execution_count": 85,
   "id": "1c4328fc",
   "metadata": {},
   "outputs": [
    {
     "data": {
      "text/plain": [
       "{'a': 2}"
      ]
     },
     "execution_count": 85,
     "metadata": {},
     "output_type": "execute_result"
    }
   ],
   "source": [
    "foo = {}\n",
    "foo['a'] = 2\n",
    "foo"
   ]
  },
  {
   "cell_type": "code",
   "execution_count": 50,
   "id": "72dd65a3",
   "metadata": {},
   "outputs": [
    {
     "data": {
      "text/plain": [
       "24"
      ]
     },
     "execution_count": 50,
     "metadata": {},
     "output_type": "execute_result"
    }
   ],
   "source": [
    "import random\n",
    "random.randint(1,100)"
   ]
  },
  {
   "cell_type": "code",
   "execution_count": 55,
   "id": "9db6e8bd",
   "metadata": {},
   "outputs": [
    {
     "data": {
      "text/plain": [
       "7.3890560989306495"
      ]
     },
     "execution_count": 55,
     "metadata": {},
     "output_type": "execute_result"
    }
   ],
   "source": [
    "math.e ** 2"
   ]
  },
  {
   "cell_type": "code",
   "execution_count": 70,
   "id": "76d523ee",
   "metadata": {},
   "outputs": [
    {
     "data": {
      "text/plain": [
       "1.0"
      ]
     },
     "execution_count": 70,
     "metadata": {},
     "output_type": "execute_result"
    }
   ],
   "source": [
    "factor = 1/2\n",
    "math.sin(factor*math.pi) #/ math.cos(factor*math.pi)"
   ]
  },
  {
   "cell_type": "code",
   "execution_count": 73,
   "id": "4d4f0f67",
   "metadata": {},
   "outputs": [
    {
     "data": {
      "text/plain": [
       "0.4342944819032518"
      ]
     },
     "execution_count": 73,
     "metadata": {},
     "output_type": "execute_result"
    }
   ],
   "source": [
    "math.log10(math.e)"
   ]
  },
  {
   "cell_type": "code",
   "execution_count": 75,
   "id": "1b2d5285",
   "metadata": {
    "collapsed": true
   },
   "outputs": [
    {
     "data": {
      "text/plain": [
       "[(1, 100),\n",
       " (1, 200),\n",
       " (1, 300),\n",
       " (1, 400),\n",
       " (1, 500),\n",
       " (1, 600),\n",
       " (1, 700),\n",
       " (1, 800),\n",
       " (1, 900),\n",
       " (3, 100),\n",
       " (3, 200),\n",
       " (3, 300),\n",
       " (3, 400),\n",
       " (3, 500),\n",
       " (3, 600),\n",
       " (3, 700),\n",
       " (3, 800),\n",
       " (3, 900),\n",
       " (5, 100),\n",
       " (5, 200),\n",
       " (5, 300),\n",
       " (5, 400),\n",
       " (5, 500),\n",
       " (5, 600),\n",
       " (5, 700),\n",
       " (5, 800),\n",
       " (5, 900),\n",
       " (7, 100),\n",
       " (7, 200),\n",
       " (7, 300),\n",
       " (7, 400),\n",
       " (7, 500),\n",
       " (7, 600),\n",
       " (7, 700),\n",
       " (7, 800),\n",
       " (7, 900),\n",
       " (9, 100),\n",
       " (9, 200),\n",
       " (9, 300),\n",
       " (9, 400),\n",
       " (9, 500),\n",
       " (9, 600),\n",
       " (9, 700),\n",
       " (9, 800),\n",
       " (9, 900)]"
      ]
     },
     "execution_count": 75,
     "metadata": {},
     "output_type": "execute_result"
    }
   ],
   "source": [
    "[(i,j) for i in range(1,10,2) for j in range(100,1000,100)]"
   ]
  },
  {
   "cell_type": "code",
   "execution_count": 77,
   "id": "a24e7dbc",
   "metadata": {},
   "outputs": [
    {
     "data": {
      "text/plain": [
       "[0, 1, 2, 3, 4, 5]"
      ]
     },
     "execution_count": 77,
     "metadata": {},
     "output_type": "execute_result"
    }
   ],
   "source": [
    "[i for i in range(6)]"
   ]
  },
  {
   "cell_type": "code",
   "execution_count": 94,
   "id": "f49af5bb",
   "metadata": {},
   "outputs": [
    {
     "data": {
      "text/plain": [
       "[[4, 3], [5, 6]]"
      ]
     },
     "execution_count": 94,
     "metadata": {},
     "output_type": "execute_result"
    }
   ],
   "source": [
    "foo = [1,2] + [3,4]\n",
    "foo.append(3)\n",
    "foo = []\n",
    "foo.append([4,3])\n",
    "foo.append([5,6])\n",
    "foo"
   ]
  },
  {
   "cell_type": "code",
   "execution_count": 95,
   "id": "2fb16ff3",
   "metadata": {},
   "outputs": [
    {
     "data": {
      "text/plain": [
       "43"
      ]
     },
     "execution_count": 95,
     "metadata": {},
     "output_type": "execute_result"
    }
   ],
   "source": [
    "1000//23"
   ]
  },
  {
   "cell_type": "code",
   "execution_count": 99,
   "id": "ea18174a",
   "metadata": {},
   "outputs": [
    {
     "data": {
      "text/plain": [
       "'shoot'"
      ]
     },
     "execution_count": 99,
     "metadata": {},
     "output_type": "execute_result"
    }
   ],
   "source": [
    "Action.shoot.name"
   ]
  }
 ],
 "metadata": {
  "kernelspec": {
   "display_name": "lc2",
   "language": "python",
   "name": "lc2"
  },
  "language_info": {
   "codemirror_mode": {
    "name": "ipython",
    "version": 3
   },
   "file_extension": ".py",
   "mimetype": "text/x-python",
   "name": "python",
   "nbconvert_exporter": "python",
   "pygments_lexer": "ipython3",
   "version": "3.11.6"
  }
 },
 "nbformat": 4,
 "nbformat_minor": 5
}

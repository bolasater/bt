{
 "cells": [
  {
   "cell_type": "code",
   "execution_count": null,
   "id": "aa36051e",
   "metadata": {},
   "outputs": [],
   "source": [
    "#This is here for reference.  \n",
    "#build ALL walkcycle sheets, don't use!  Builds too many.  Here for ref.\n",
    "def build_ALL_walkcycle_sprite_sheets():  \n",
    "    root = Path('.')/ 'textures' / 'png'/'walkcycle'\n",
    "    sprite_part_stack = list(Sprite_part)\n",
    "    fn_img_tuples = {} # dict of sprite_part:(filename,image)\n",
    "    s_prev = None\n",
    "    while len(sprite_part_stack)>0:\n",
    "        s = sprite_part_stack.pop(0)\n",
    "        print(f'{s.name}:{[(k.name,len(v)) for k,v in fn_img_tuples.items()]}')\n",
    "        for o in sprite_part_options[s]:\n",
    "            f = root / f'{s.name}_{o}.png'\n",
    "            if f.exists():\n",
    "                img = Image.open(f.as_posix())\n",
    "                fn_part = ''.join([a[:2] for a in o.split('_')])\n",
    "                print(f'  {o}')\n",
    "                if s_prev is None:\n",
    "                    fn_img_tuples.setdefault(s,[]).append((fn_part,img))\n",
    "                else:\n",
    "                    fn_img_prev = fn_img_tuples.get(s_prev)\n",
    "                    #print(f'   {s_prev.name}: {[t[0] for t in fn_img_prev] if fn_img_prev is not None else None}')\n",
    "                    if fn_img_prev:\n",
    "                        for f_prev in fn_img_prev:\n",
    "                            new_part = f_prev[0]+'_'+fn_part\n",
    "                            new_img = Image.alpha_composite(f_prev[1],img)\n",
    "                            #print(f'    {fn_part}:{img}')\n",
    "                            fn_img_tuples.setdefault(s,[]).append((new_part,new_img))\n",
    "                    #fn_img_tuples.pop(s_prev)\n",
    "            else:\n",
    "                print(f'  {f.as_posix()} is not here.')\n",
    "        s_prev = s\n",
    "\n",
    "    print(\"=====================\")\n",
    "    #show filenames\n",
    "    for k,v in fn_img_tuples.items():\n",
    "        print(f'{k.name}:')\n",
    "        for i in v:\n",
    "            print(f'  {i[0]}')\n",
    "    #show files per sprite part\n",
    "    for k,v in fn_img_tuples.items():\n",
    "        print(f'{k.name}:{len(v)}')\n",
    "\n",
    "    #save a subset of files\n",
    "    # for f_i in fn_img_tuples[Sprite_part.WEAPON][:100:10]:\n",
    "    #     f_i[1].save((root / f'FULL_{f_i[0]}.png'))\n"
   ]
  },
  {
   "cell_type": "code",
   "execution_count": null,
   "id": "f5e75130",
   "metadata": {},
   "outputs": [],
   "source": [
    "#Useful file naming code\n",
    "                    #fn +='_' + ''.join([a[:2] for a in o.split('_')])"
   ]
  }
 ],
 "metadata": {
  "kernelspec": {
   "display_name": "lc2",
   "language": "python",
   "name": "lc2"
  },
  "language_info": {
   "codemirror_mode": {
    "name": "ipython",
    "version": 3
   },
   "file_extension": ".py",
   "mimetype": "text/x-python",
   "name": "python",
   "nbconvert_exporter": "python",
   "pygments_lexer": "ipython3",
   "version": "3.11.6"
  }
 },
 "nbformat": 4,
 "nbformat_minor": 5
}

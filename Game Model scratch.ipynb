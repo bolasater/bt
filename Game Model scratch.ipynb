{
 "cells": [
  {
   "cell_type": "code",
   "execution_count": 97,
   "id": "b1f60940",
   "metadata": {},
   "outputs": [],
   "source": [
    "import importlib\n",
    "importlib.reload(mobmodel)\n",
    "\n",
    "from mobmodel import MobTypeModel, MobModel, GameModel, Action"
   ]
  },
  {
   "cell_type": "code",
   "execution_count": 95,
   "id": "6fc05cb6",
   "metadata": {},
   "outputs": [],
   "source": [
    "from enum import Enum\n",
    "import random"
   ]
  },
  {
   "cell_type": "code",
   "execution_count": 100,
   "id": "5cb80e65",
   "metadata": {},
   "outputs": [],
   "source": [
    "import json\n",
    "\n",
    "with open('mobs.json') as f:\n",
    "    data = json.load(f)"
   ]
  },
  {
   "cell_type": "code",
   "execution_count": 101,
   "id": "72dd3d0a",
   "metadata": {},
   "outputs": [
    {
     "data": {
      "text/plain": [
       "{'mob_types': [{'name': 'fighter',\n",
       "   'dmg_health_split': 0.5,\n",
       "   'mvt': 1.5,\n",
       "   'atk_stats': {'thrust': {'rng': 1, 'atks_sec': 1}}},\n",
       "  {'name': 'archer',\n",
       "   'dmg_health_split': 0.6,\n",
       "   'mvt': 1,\n",
       "   'atk_stats': {'shoot': {'rng': 5, 'atks_sec': 1}}}],\n",
       " 'mobs': [{'mob_type': 'fighter', 'level': 2, 'team': 0},\n",
       "  {'mob_type': 'archer', 'level': 1, 'team': 1}]}"
      ]
     },
     "execution_count": 101,
     "metadata": {},
     "output_type": "execute_result"
    }
   ],
   "source": [
    "mob_types_data = data[\"mob_types\"]\n",
    "mobs_data = data[\"mobs\"]\n",
    "data"
   ]
  },
  {
   "cell_type": "code",
   "execution_count": null,
   "id": "48992cb9",
   "metadata": {},
   "outputs": [],
   "source": [
    "for a,stats in mob_types_data:\n",
    "    rng = stats[\"rng\"]\n",
    "    atks_sec = stats[\"atks_sec\"]\n",
    "    stats[\"secs_atk\"] = 1/atks_sec\n",
    "    stats[\"dmg_atk\"] = self.dps/atks_sec"
   ]
  },
  {
   "cell_type": "code",
   "execution_count": 89,
   "id": "8518c908",
   "metadata": {},
   "outputs": [
    {
     "data": {
      "text/plain": [
       "(75, 74)"
      ]
     },
     "execution_count": 89,
     "metadata": {},
     "output_type": "execute_result"
    }
   ],
   "source": [
    "(x,y) = (random.randint(0,100),random.randint(0,100))\n",
    "(x,y)"
   ]
  },
  {
   "cell_type": "code",
   "execution_count": 91,
   "id": "8e626071",
   "metadata": {},
   "outputs": [
    {
     "data": {
      "text/plain": [
       "5.0"
      ]
     },
     "execution_count": 91,
     "metadata": {},
     "output_type": "execute_result"
    }
   ],
   "source": [
    "import math\n",
    "math.sqrt(3**2 + 4**b2)"
   ]
  },
  {
   "cell_type": "code",
   "execution_count": 93,
   "id": "d8e33b14",
   "metadata": {},
   "outputs": [
    {
     "data": {
      "text/plain": [
       "1"
      ]
     },
     "execution_count": 93,
     "metadata": {},
     "output_type": "execute_result"
    }
   ],
   "source": [
    "min(1,2)"
   ]
  },
  {
   "cell_type": "code",
   "execution_count": 102,
   "id": "426ddadc",
   "metadata": {},
   "outputs": [
    {
     "ename": "IndexError",
     "evalue": "pop index out of range",
     "output_type": "error",
     "traceback": [
      "\u001b[0;31m---------------------------------------------------------------------------\u001b[0m",
      "\u001b[0;31mIndexError\u001b[0m                                Traceback (most recent call last)",
      "Cell \u001b[0;32mIn[102], line 2\u001b[0m\n\u001b[1;32m      1\u001b[0m foo \u001b[38;5;241m=\u001b[39m [\u001b[38;5;241m5\u001b[39m,\u001b[38;5;241m4\u001b[39m,\u001b[38;5;241m8\u001b[39m,\u001b[38;5;241m9\u001b[39m]\n\u001b[0;32m----> 2\u001b[0m \u001b[43mfoo\u001b[49m\u001b[38;5;241;43m.\u001b[39;49m\u001b[43mpop\u001b[49m\u001b[43m(\u001b[49m\u001b[38;5;241;43m4\u001b[39;49m\u001b[43m)\u001b[49m\n\u001b[1;32m      3\u001b[0m foo\n",
      "\u001b[0;31mIndexError\u001b[0m: pop index out of range"
     ]
    }
   ],
   "source": [
    "foo = [5,4,8,9]\n",
    "foo.pop(4)\n",
    "foo"
   ]
  },
  {
   "cell_type": "code",
   "execution_count": 112,
   "id": "3584a6e4",
   "metadata": {},
   "outputs": [
    {
     "data": {
      "text/plain": [
       "bool"
      ]
     },
     "execution_count": 112,
     "metadata": {},
     "output_type": "execute_result"
    }
   ],
   "source": [
    "z = {'a':1,'b':2}.get(3)\n",
    "z is None\n",
    "3 <= 2\n",
    "type(True)"
   ]
  },
  {
   "cell_type": "code",
   "execution_count": 120,
   "id": "a925a48f",
   "metadata": {},
   "outputs": [
    {
     "data": {
      "text/plain": [
       "'TEST'"
      ]
     },
     "execution_count": 120,
     "metadata": {},
     "output_type": "execute_result"
    }
   ],
   "source": [
    "\"tests:\"[:-2].upper()"
   ]
  },
  {
   "cell_type": "code",
   "execution_count": 127,
   "id": "2130afff",
   "metadata": {},
   "outputs": [
    {
     "ename": "AttributeError",
     "evalue": "module 'math' has no attribute 'sum'",
     "output_type": "error",
     "traceback": [
      "\u001b[0;31m---------------------------------------------------------------------------\u001b[0m",
      "\u001b[0;31mAttributeError\u001b[0m                            Traceback (most recent call last)",
      "Cell \u001b[0;32mIn[127], line 6\u001b[0m\n\u001b[1;32m      4\u001b[0m test_dict\n\u001b[1;32m      5\u001b[0m math\u001b[38;5;241m.\u001b[39mprod([v \u001b[38;5;28;01mfor\u001b[39;00m v \u001b[38;5;129;01min\u001b[39;00m test_dict[\u001b[38;5;124m'\u001b[39m\u001b[38;5;124mb\u001b[39m\u001b[38;5;124m'\u001b[39m]\u001b[38;5;241m.\u001b[39mvalues()])\n\u001b[0;32m----> 6\u001b[0m \u001b[43mmath\u001b[49m\u001b[38;5;241;43m.\u001b[39;49m\u001b[43msum\u001b[49m([v \u001b[38;5;28;01mfor\u001b[39;00m v \u001b[38;5;129;01min\u001b[39;00m test_dict[\u001b[38;5;124m'\u001b[39m\u001b[38;5;124mb\u001b[39m\u001b[38;5;124m'\u001b[39m]\u001b[38;5;241m.\u001b[39mvalues()])\n",
      "\u001b[0;31mAttributeError\u001b[0m: module 'math' has no attribute 'sum'"
     ]
    }
   ],
   "source": [
    "test_dict = {'a':{'aa':1,'bb':2},'b':{'aa':5, 'bb':6}}\n",
    "sub_dict = test_dict['b']\n",
    "sub_dict['bb'] = 9\n",
    "test_dict\n",
    "math.prod([v for v in test_dict['b'].values()])\n",
    "math.sum([v for v in test_dict['b'].values()])"
   ]
  },
  {
   "cell_type": "code",
   "execution_count": 126,
   "id": "a334cfd8",
   "metadata": {},
   "outputs": [
    {
     "name": "stdout",
     "output_type": "stream",
     "text": [
      "0 a {'aa': 1, 'bb': 2}\n",
      "1 b {'aa': 5, 'bb': 9}\n"
     ]
    }
   ],
   "source": [
    "for i,(k,v) in enumerate(test_dict.items()):\n",
    "    print(i,k,v)"
   ]
  },
  {
   "cell_type": "code",
   "execution_count": 136,
   "id": "e335153d",
   "metadata": {},
   "outputs": [
    {
     "data": {
      "text/plain": [
       "(-2, -2, 6, 6)"
      ]
     },
     "execution_count": 136,
     "metadata": {},
     "output_type": "execute_result"
    }
   ],
   "source": [
    "import arcade\n",
    "v1,v2 = (0,0),(2,2)\n",
    "v3 = arcade.lerp_vec(v1,v2,-1) + arcade.lerp_vec(v1,v2,3)\n",
    "v3"
   ]
  },
  {
   "cell_type": "code",
   "execution_count": 135,
   "id": "a61b65cb",
   "metadata": {},
   "outputs": [
    {
     "data": {
      "text/plain": [
       "3"
      ]
     },
     "execution_count": 135,
     "metadata": {},
     "output_type": "execute_result"
    }
   ],
   "source": [
    "def tester(a,b,c,d):\n",
    "    return c\n",
    "\n",
    "tester(*(1,2,3,4))"
   ]
  }
 ],
 "metadata": {
  "kernelspec": {
   "display_name": "lc2",
   "language": "python",
   "name": "lc2"
  },
  "language_info": {
   "codemirror_mode": {
    "name": "ipython",
    "version": 3
   },
   "file_extension": ".py",
   "mimetype": "text/x-python",
   "name": "python",
   "nbconvert_exporter": "python",
   "pygments_lexer": "ipython3",
   "version": "3.11.6"
  }
 },
 "nbformat": 4,
 "nbformat_minor": 5
}

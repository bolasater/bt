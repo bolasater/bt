{
 "cells": [
  {
   "cell_type": "code",
   "execution_count": 3,
   "id": "2cabd57e",
   "metadata": {},
   "outputs": [],
   "source": [
    "#Imports\n",
    "import random\n",
    "import arcade\n",
    "import os\n",
    "from pathlib import Path\n",
    "from enum import Enum\n",
    "from PIL import Image"
   ]
  },
  {
   "cell_type": "code",
   "execution_count": 4,
   "id": "dfeb20c5",
   "metadata": {},
   "outputs": [],
   "source": [
    "#configuration\n",
    "Sprite_part = Enum('Sprite_part',['BEHIND', 'BODY', 'FEET', 'LEGS', 'TORSO', 'BELT', 'HEAD', 'HANDS', 'SHEILD', 'WEAPON'])\n",
    "Action = Enum('Action',['shoot','hurt','slash','slash_reverse','spellcast','thrust','walk']) #slash_reverse.  not supported\n",
    "\n",
    "#what actions use the weapon art?  Is the art oversized?\n",
    "# weapon_actions ={\n",
    "#     'dagger': ,\n",
    "#     'long_sword':,\n",
    "#     'spear':,\n",
    "#     'crystal_staff':,\n",
    "#     'bow':,\n",
    "#     'crossbow':\n",
    "    \n",
    "# }\n",
    "sprite_part_options = {\n",
    "    Sprite_part.BEHIND:['quiver'],\n",
    "    Sprite_part.BODY:['human', 'skeleton','goblin','boar','lizard','minotaur','troll','wolf'],\n",
    "    Sprite_part.FEET:['plate_armor_shoes', 'shoes_brown'],\n",
    "    Sprite_part.LEGS:['pants_greenish', 'plate_armor_pants', 'robe_skirt'],\n",
    "    Sprite_part.TORSO:['chain_armor_jacket_purple', 'chain_armor_torso', 'leather_armor_bracers', 'leather_armor_shirt_white', 'leather_armor_shoulders', 'leather_armor_torso', 'plate_armor_arms_shoulders', 'plate_armor_torso', 'robe_shirt_brown'],\n",
    "    Sprite_part.BELT:['leather', 'rope'],\n",
    "    Sprite_part.HEAD:['chain_armor_helmet', 'chain_armor_hood', 'hair_blonde', 'leather_armor_hat', 'plate_armor_helmet', 'robe_hood'],\n",
    "    Sprite_part.HANDS:['plate_armor_gloves'],\n",
    "    Sprite_part.WEAPON:['dagger', 'spear', 'crystal_staff', 'bow', 'arrow', \n",
    "                        'shield_cutout_body', 'shield_cutout_chain_armor_helmet']}\n",
    "\n",
    "std_sprite_wd, std_sprite_ht = 64,64\n",
    "sprite_sheet_dims = { #columns, rows for normal\n",
    "    Action.shoot:(13,4),\n",
    "    Action.hurt:(6,1),\n",
    "    Action.slash:(6,4),\n",
    "    Action.spellcast:(7,4),\n",
    "    Action.slash_reverse:(6,4),\n",
    "    Action.thrust:(8,4),\n",
    "    Action.walk:(9,4)\n",
    "}\n",
    "ov_sprite_wd = 192\n",
    "\n",
    "textures = {}"
   ]
  },
  {
   "cell_type": "code",
   "execution_count": 14,
   "id": "17b34c5c",
   "metadata": {},
   "outputs": [],
   "source": [
    "#Split function \n",
    "#breaks up large png into smaller action based pngs in proper dirs\n",
    "def split_png (base_name, sprite_part, crop_order):\n",
    "    root_path = Path('.')/ 'textures' / 'png'\n",
    "    source_path = root_path / '01_raw' / f'{sprite_part}' / f'{base_name}.png'\n",
    "    img = Image.open(source_path.as_posix())\n",
    "    lower = 0\n",
    "    for i,thruple in enumerate(crop_order):\n",
    "        a,is_full,is_ov = thruple\n",
    "        cols,rows = sprite_sheet_dims[a]\n",
    "        left = 0\n",
    "        if is_ov:\n",
    "            sprite_wd, sprite_ht = 192,192\n",
    "        else:\n",
    "            sprite_wd, sprite_ht = 64,64\n",
    "        upper = lower #i*4*sprite_ht\n",
    "        right = cols*sprite_wd\n",
    "        lower = upper + rows*sprite_ht\n",
    "        box = (0,upper,right,lower)\n",
    "        print(f'{a.name}:rows,cols:{(rows,cols)}, full:{bool(is_full)}, ov:{bool(is_ov)}, box:{(0,upper,right,lower)}')\n",
    "        if is_full:\n",
    "            t_img = img.crop(box)\n",
    "            save_path = root_path / '02_source' / a.name /  f'{sprite_part}_{base_name}.png'\n",
    "            t_img.save(save_path.as_posix())"
   ]
  },
  {
   "cell_type": "code",
   "execution_count": 16,
   "id": "7ecb5f43",
   "metadata": {},
   "outputs": [
    {
     "name": "stdout",
     "output_type": "stream",
     "text": [
      "spellcast:rows,cols:(4, 7), full:False, ov:False, box:(0, 0, 448, 256)\n",
      "thrust:rows,cols:(4, 8), full:False, ov:False, box:(0, 256, 512, 512)\n",
      "walk:rows,cols:(4, 9), full:True, ov:False, box:(0, 512, 576, 768)\n",
      "slash:rows,cols:(4, 6), full:False, ov:False, box:(0, 768, 384, 1024)\n",
      "shoot:rows,cols:(4, 13), full:False, ov:False, box:(0, 1024, 832, 1280)\n",
      "hurt:rows,cols:(1, 6), full:True, ov:False, box:(0, 1280, 384, 1344)\n",
      "slash:rows,cols:(4, 6), full:True, ov:True, box:(0, 1344, 1152, 2112)\n",
      "slash_reverse:rows,cols:(4, 6), full:True, ov:True, box:(0, 2112, 1152, 2880)\n",
      "thrust:rows,cols:(4, 8), full:True, ov:True, box:(0, 2880, 1536, 3648)\n"
     ]
    }
   ],
   "source": [
    "#weapons = ['long_sword','crystal_staff','spear','crossbow']\n",
    "long_sword_crop_order = [\n",
    "    (Action.spellcast,0,0),\n",
    "    (Action.thrust,0,0), \n",
    "    (Action.walk,1,0),\n",
    "    (Action.slash,0,0), \n",
    "    (Action.shoot,0,0), \n",
    "    (Action.hurt,1,0),\n",
    "    (Action.slash,1,1), \n",
    "    (Action.slash_reverse,1,1),\n",
    "    (Action.thrust,1,1)]\n",
    "split_png('long_sword','WEAPON',long_sword_crop_order)"
   ]
  },
  {
   "cell_type": "code",
   "execution_count": 18,
   "id": "099c9e6b",
   "metadata": {},
   "outputs": [
    {
     "name": "stdout",
     "output_type": "stream",
     "text": [
      "spellcast:rows,cols:(4, 7), full:False, ov:False, box:(0, 0, 448, 256)\n",
      "thrust:rows,cols:(4, 8), full:False, ov:False, box:(0, 256, 512, 512)\n",
      "walk:rows,cols:(4, 9), full:True, ov:False, box:(0, 512, 576, 768)\n",
      "slash:rows,cols:(4, 6), full:False, ov:False, box:(0, 768, 384, 1024)\n",
      "shoot:rows,cols:(4, 13), full:False, ov:False, box:(0, 1024, 832, 1280)\n",
      "hurt:rows,cols:(1, 6), full:True, ov:False, box:(0, 1280, 384, 1344)\n",
      "thrust:rows,cols:(4, 8), full:True, ov:True, box:(0, 1344, 1536, 2112)\n"
     ]
    }
   ],
   "source": [
    "crystal_staff_crop_order = [\n",
    "    (Action.spellcast,0,0),\n",
    "    (Action.thrust,0,0), \n",
    "    (Action.walk,1,0),\n",
    "    (Action.slash,0,0), \n",
    "    (Action.shoot,0,0), \n",
    "    (Action.hurt,1,0),\n",
    "    (Action.thrust,1,1)]\n",
    "split_png('crystal_staff','WEAPON', crystal_staff_crop_order)"
   ]
  },
  {
   "cell_type": "code",
   "execution_count": null,
   "id": "128b5506",
   "metadata": {},
   "outputs": [],
   "source": [
    "#debug split_png\n",
    "def test_split_png(src_file,crop_box,dest_file): #ex. 'long_sword.png',(0, 1344, 1152, 2112),'long_sword_slash_oversize.png'\n",
    "    src_path = Path('.') / 'textures' / 'png' / '_source' / src_file\n",
    "    test_img = Image.open(src_path.as_posix())\n",
    "    cropped_img = test_img.crop(crop_box)\n",
    "    save_path = Path('.') / 'textures' / 'png' / '_source' / dest_file\n",
    "    cropped_img.save(save_path.as_posix())"
   ]
  },
  {
   "cell_type": "code",
   "execution_count": 20,
   "id": "1f107888",
   "metadata": {},
   "outputs": [
    {
     "data": {
      "text/plain": [
       "5"
      ]
     },
     "execution_count": 20,
     "metadata": {},
     "output_type": "execute_result"
    }
   ],
   "source": [
    "import arcade\n",
    "foo = arcade.AnimationKeyframe(1,5,None)\n",
    "foo.duration"
   ]
  }
 ],
 "metadata": {
  "kernelspec": {
   "display_name": "lc2",
   "language": "python",
   "name": "lc2"
  },
  "language_info": {
   "codemirror_mode": {
    "name": "ipython",
    "version": 3
   },
   "file_extension": ".py",
   "mimetype": "text/x-python",
   "name": "python",
   "nbconvert_exporter": "python",
   "pygments_lexer": "ipython3",
   "version": "3.11.6"
  }
 },
 "nbformat": 4,
 "nbformat_minor": 5
}

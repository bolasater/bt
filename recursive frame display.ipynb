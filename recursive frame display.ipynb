{
 "cells": [
  {
   "cell_type": "code",
   "execution_count": 4,
   "id": "b1bbd484",
   "metadata": {},
   "outputs": [
    {
     "data": {
      "text/plain": [
       "[PosixPath('textures/png/spellcast'),\n",
       " PosixPath('textures/png/bow'),\n",
       " PosixPath('textures/png/hurt'),\n",
       " PosixPath('textures/png/walkcycle'),\n",
       " PosixPath('textures/png/slash'),\n",
       " PosixPath('textures/png/thrust')]"
      ]
     },
     "execution_count": 4,
     "metadata": {},
     "output_type": "execute_result"
    }
   ],
   "source": [
    "from pathlib import Path\n",
    "p = Path('./textures/png')\n",
    "[x for x in p.iterdir() if x.is_dir()]"
   ]
  },
  {
   "cell_type": "code",
   "execution_count": 6,
   "id": "258a0347",
   "metadata": {},
   "outputs": [],
   "source": [
    "body_part = ['WEAPON','HANDS','HEAD','BELT','TORSO','LEGS','FEET','BODY','BEHIND']\n",
    "action = ['bow','hurt','slash','spellcast','thrust','walkcycle']\n",
    "behind = ['quiver']\n",
    "belt = ['leather','rope']\n",
    "body = ['human','skeleton']\n",
    "feet = ['plate_armor_shoes','shoes_brown']\n",
    "hands = ['plate_armor_gloves']\n",
    "head = ['chain armor_helmet','chain_armor_hood','hair_blonde','leather_armor_hat','plate_armor_helmet','robe_hood']\n",
    "legs = ['pants_greenish','plate_armor_pants','robe_skirt']\n",
    "torso = ['chain_armor_jacket_purple','chain_armor_torso','leather_armor_bracers',\n",
    "             'leather_armor_shirt_white','leather_armor_shoulders','leather_armor_torso',\n",
    "             'plate_armor_arms_shoulders','plate_armor_torso','robe_shirt_brown']"
   ]
  },
  {
   "cell_type": "code",
   "execution_count": 80,
   "id": "c2eeee72",
   "metadata": {},
   "outputs": [],
   "source": [
    "def make_filename(*items):\n",
    "    str = \"\"\n",
    "    for i in items:\n",
    "        str += f'{i}_'\n",
    "    return str"
   ]
  },
  {
   "cell_type": "code",
   "execution_count": 103,
   "id": "89753de1",
   "metadata": {},
   "outputs": [],
   "source": [
    "def display_frames(inner_func, **frames): #frames is dict of lists\n",
    "    if len(frames)==0:\n",
    "        return\n",
    "    def _df(offset,frames, *items):\n",
    "        if len(frames)>0:\n",
    "            temp_frames = frames.copy()\n",
    "            k = list(temp_frames)[0]\n",
    "            l = temp_frames.pop(k)\n",
    "            for e in l:\n",
    "                _items = list(items)\n",
    "                _items.append(e)\n",
    "                print(f'{\" \"*offset}{e}')\n",
    "                _df(offset+2,temp_frames,*_items)\n",
    "        else:\n",
    "            print(f'{\" \"*(offset+2)}{items}') #inner_func(*items)\n",
    "\n",
    "    _df(0,frames)\n",
    "    "
   ]
  },
  {
   "cell_type": "code",
   "execution_count": 104,
   "id": "d0f3fe41",
   "metadata": {},
   "outputs": [
    {
     "name": "stdout",
     "output_type": "stream",
     "text": [
      "apple\n",
      "  artichoke\n",
      "    audi\n",
      "        ('apple', 'artichoke', 'audi')\n",
      "    bmw\n",
      "        ('apple', 'artichoke', 'bmw')\n",
      "    chevy\n",
      "        ('apple', 'artichoke', 'chevy')\n",
      "  brocolli\n",
      "    audi\n",
      "        ('apple', 'brocolli', 'audi')\n",
      "    bmw\n",
      "        ('apple', 'brocolli', 'bmw')\n",
      "    chevy\n",
      "        ('apple', 'brocolli', 'chevy')\n",
      "  cauliflower\n",
      "    audi\n",
      "        ('apple', 'cauliflower', 'audi')\n",
      "    bmw\n",
      "        ('apple', 'cauliflower', 'bmw')\n",
      "    chevy\n",
      "        ('apple', 'cauliflower', 'chevy')\n",
      "banana\n",
      "  artichoke\n",
      "    audi\n",
      "        ('banana', 'artichoke', 'audi')\n",
      "    bmw\n",
      "        ('banana', 'artichoke', 'bmw')\n",
      "    chevy\n",
      "        ('banana', 'artichoke', 'chevy')\n",
      "  brocolli\n",
      "    audi\n",
      "        ('banana', 'brocolli', 'audi')\n",
      "    bmw\n",
      "        ('banana', 'brocolli', 'bmw')\n",
      "    chevy\n",
      "        ('banana', 'brocolli', 'chevy')\n",
      "  cauliflower\n",
      "    audi\n",
      "        ('banana', 'cauliflower', 'audi')\n",
      "    bmw\n",
      "        ('banana', 'cauliflower', 'bmw')\n",
      "    chevy\n",
      "        ('banana', 'cauliflower', 'chevy')\n",
      "cherry\n",
      "  artichoke\n",
      "    audi\n",
      "        ('cherry', 'artichoke', 'audi')\n",
      "    bmw\n",
      "        ('cherry', 'artichoke', 'bmw')\n",
      "    chevy\n",
      "        ('cherry', 'artichoke', 'chevy')\n",
      "  brocolli\n",
      "    audi\n",
      "        ('cherry', 'brocolli', 'audi')\n",
      "    bmw\n",
      "        ('cherry', 'brocolli', 'bmw')\n",
      "    chevy\n",
      "        ('cherry', 'brocolli', 'chevy')\n",
      "  cauliflower\n",
      "    audi\n",
      "        ('cherry', 'cauliflower', 'audi')\n",
      "    bmw\n",
      "        ('cherry', 'cauliflower', 'bmw')\n",
      "    chevy\n",
      "        ('cherry', 'cauliflower', 'chevy')\n"
     ]
    }
   ],
   "source": [
    "display_frames(make_filename,\n",
    "               fruit=['apple','banana','cherry'], \n",
    "               veg = ['artichoke','brocolli','cauliflower'], \n",
    "               car = ['audi','bmw','chevy'])"
   ]
  },
  {
   "cell_type": "code",
   "execution_count": 7,
   "id": "c63c1df5",
   "metadata": {},
   "outputs": [
    {
     "data": {
      "text/plain": [
       "9"
      ]
     },
     "execution_count": 7,
     "metadata": {},
     "output_type": "execute_result"
    }
   ],
   "source": [
    "len(torso)"
   ]
  },
  {
   "cell_type": "code",
   "execution_count": 15,
   "id": "49dbb037",
   "metadata": {},
   "outputs": [
    {
     "name": "stdout",
     "output_type": "stream",
     "text": [
      "hello 1\n",
      "goodbye 2\n"
     ]
    },
    {
     "data": {
      "text/plain": [
       "2"
      ]
     },
     "execution_count": 15,
     "metadata": {},
     "output_type": "execute_result"
    }
   ],
   "source": [
    "def foo(**kwargs):\n",
    "    {print(k,v) for k,v in kwargs.items()}\n",
    "    return len(kwargs)\n",
    "\n",
    "foo(hello=1, goodbye=2)"
   ]
  },
  {
   "cell_type": "code",
   "execution_count": 20,
   "id": "2224a8d3",
   "metadata": {},
   "outputs": [
    {
     "data": {
      "text/plain": [
       "1"
      ]
     },
     "execution_count": 20,
     "metadata": {},
     "output_type": "execute_result"
    }
   ],
   "source": [
    "fee = [1,2,3]\n",
    "fee.pop(0)"
   ]
  },
  {
   "cell_type": "code",
   "execution_count": 22,
   "id": "1ac3507c",
   "metadata": {},
   "outputs": [
    {
     "data": {
      "text/plain": [
       "0"
      ]
     },
     "execution_count": 22,
     "metadata": {},
     "output_type": "execute_result"
    }
   ],
   "source": [
    "len([])"
   ]
  },
  {
   "cell_type": "code",
   "execution_count": 75,
   "id": "be729066",
   "metadata": {},
   "outputs": [
    {
     "data": {
      "text/plain": [
       "[1, 2, 3, 4]"
      ]
     },
     "execution_count": 75,
     "metadata": {},
     "output_type": "execute_result"
    }
   ],
   "source": [
    "def fum(*i):\n",
    "    i = list(i)\n",
    "    i.append(4)\n",
    "    return i\n",
    "\n",
    "j = fum(1,2,3)\n",
    "j"
   ]
  },
  {
   "cell_type": "code",
   "execution_count": 33,
   "id": "65597671",
   "metadata": {},
   "outputs": [
    {
     "name": "stdout",
     "output_type": "stream",
     "text": [
      "a 1\n"
     ]
    }
   ],
   "source": [
    "frames = {'a':1,'b':2,'c':3} \n",
    "k = list(frames)[0]\n",
    "v = frames.pop(k)\n",
    "print(k,v)"
   ]
  },
  {
   "cell_type": "code",
   "execution_count": 48,
   "id": "7589be8a",
   "metadata": {},
   "outputs": [
    {
     "data": {
      "text/plain": [
       "'foo'"
      ]
     },
     "execution_count": 48,
     "metadata": {},
     "output_type": "execute_result"
    }
   ],
   "source": [
    "str = \"\"\n",
    "str += \"foo\"\n",
    "str"
   ]
  },
  {
   "cell_type": "code",
   "execution_count": 46,
   "id": "65b7b592",
   "metadata": {},
   "outputs": [
    {
     "data": {
      "text/plain": [
       "[1, 2, 3, 4]"
      ]
     },
     "execution_count": 46,
     "metadata": {},
     "output_type": "execute_result"
    }
   ],
   "source": [
    "a = [1,2,3]\n",
    "a.append(4)\n",
    "a"
   ]
  },
  {
   "cell_type": "code",
   "execution_count": 95,
   "id": "9da9f84d",
   "metadata": {},
   "outputs": [
    {
     "data": {
      "text/plain": [
       "(1, 2, 3, 1, 2, 3, 1, 2, 3, 1, 2, 3)"
      ]
     },
     "execution_count": 95,
     "metadata": {},
     "output_type": "execute_result"
    }
   ],
   "source": [
    "def foo(*args):\n",
    "    retval = 1\n",
    "    for a in args:\n",
    "        retval *= a\n",
    "    return retval\n",
    "\n",
    "foo()"
   ]
  }
 ],
 "metadata": {
  "kernelspec": {
   "display_name": "lc2",
   "language": "python",
   "name": "lc2"
  },
  "language_info": {
   "codemirror_mode": {
    "name": "ipython",
    "version": 3
   },
   "file_extension": ".py",
   "mimetype": "text/x-python",
   "name": "python",
   "nbconvert_exporter": "python",
   "pygments_lexer": "ipython3",
   "version": "3.11.6"
  }
 },
 "nbformat": 4,
 "nbformat_minor": 5
}
